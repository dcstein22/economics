{
 "cells": [
  {
   "attachments": {},
   "cell_type": "markdown",
   "metadata": {},
   "source": [
    "# Hypothetical Allocation \n",
    "\n",
    "- Apple, Home Depot, Honeywell, Palantir, Crowdstrike"
   ]
  },
  {
   "cell_type": "code",
   "execution_count": 35,
   "metadata": {},
   "outputs": [],
   "source": [
    "import pandas as pd\n",
    "import numpy as np\n",
    "import matplotlib.pyplot as plt\n",
    "import statsmodels.api as sm \n",
    "import matplotlib as mpl\n",
    "import seaborn as sns\n",
    "import scipy as scs\n",
    "import math\n",
    "import yfinance as yf\n",
    "from statsmodels.regression.rolling import RollingOLS\n",
    "from sklearn.linear_model import LinearRegression, Lasso, Ridge\n",
    "from statsmodels.regression.quantile_regression import QuantReg\n",
    "\n",
    "from sklearn.linear_model import QuantileRegressor\n",
    "from sklearn.decomposition import PCA\n",
    "\n",
    "from scipy.optimize import lsq_linear\n",
    "import warnings\n",
    "warnings.filterwarnings(\"ignore\")\n",
    "plt.style.use(\"seaborn\")\n",
    "mpl.rcParams['font.family'] = 'serif'\n",
    "%matplotlib inline"
   ]
  },
  {
   "cell_type": "code",
   "execution_count": 36,
   "metadata": {},
   "outputs": [
    {
     "name": "stdout",
     "output_type": "stream",
     "text": [
      "[*********************100%***********************]  1 of 1 completed\n",
      "[*********************100%***********************]  2 of 2 completed\n"
     ]
    }
   ],
   "source": [
    "tickers = 'AAPL MNST'\n",
    "rf = pd.DataFrame(yf.download('^IRX',interval = '1mo')['Adj Close']).dropna()\n",
    "rf.columns = ['1M Treasury']\n",
    "rf['1M Treasury'] *= 10**-2\n",
    "rf['1M Treasury'] /= 3\n",
    "assets = pd.DataFrame(yf.download(tickers, interval = '1mo')['Adj Close']).dropna()\n",
    "\n",
    "assets.columns = ['Apple','Monster']\n",
    "rets = assets.pct_change().dropna()"
   ]
  },
  {
   "cell_type": "code",
   "execution_count": 37,
   "metadata": {},
   "outputs": [],
   "source": [
    "rets = rets.join(rf, how = 'inner')"
   ]
  },
  {
   "cell_type": "code",
   "execution_count": 38,
   "metadata": {},
   "outputs": [
    {
     "data": {
      "text/html": [
       "<div>\n",
       "<style scoped>\n",
       "    .dataframe tbody tr th:only-of-type {\n",
       "        vertical-align: middle;\n",
       "    }\n",
       "\n",
       "    .dataframe tbody tr th {\n",
       "        vertical-align: top;\n",
       "    }\n",
       "\n",
       "    .dataframe thead th {\n",
       "        text-align: right;\n",
       "    }\n",
       "</style>\n",
       "<table border=\"1\" class=\"dataframe\">\n",
       "  <thead>\n",
       "    <tr style=\"text-align: right;\">\n",
       "      <th></th>\n",
       "      <th>Apple</th>\n",
       "      <th>Monster</th>\n",
       "      <th>1M Treasury</th>\n",
       "    </tr>\n",
       "    <tr>\n",
       "      <th>Date</th>\n",
       "      <th></th>\n",
       "      <th></th>\n",
       "      <th></th>\n",
       "    </tr>\n",
       "  </thead>\n",
       "  <tbody>\n",
       "    <tr>\n",
       "      <th>1986-02-01</th>\n",
       "      <td>0.081075</td>\n",
       "      <td>0.142857</td>\n",
       "      <td>0.023400</td>\n",
       "    </tr>\n",
       "    <tr>\n",
       "      <th>1986-03-01</th>\n",
       "      <td>0.130001</td>\n",
       "      <td>0.249999</td>\n",
       "      <td>0.021133</td>\n",
       "    </tr>\n",
       "    <tr>\n",
       "      <th>1986-04-01</th>\n",
       "      <td>0.070800</td>\n",
       "      <td>0.000000</td>\n",
       "      <td>0.020333</td>\n",
       "    </tr>\n",
       "    <tr>\n",
       "      <th>1986-05-01</th>\n",
       "      <td>0.223140</td>\n",
       "      <td>0.000000</td>\n",
       "      <td>0.021000</td>\n",
       "    </tr>\n",
       "    <tr>\n",
       "      <th>1986-06-01</th>\n",
       "      <td>-0.030409</td>\n",
       "      <td>0.000000</td>\n",
       "      <td>0.019867</td>\n",
       "    </tr>\n",
       "  </tbody>\n",
       "</table>\n",
       "</div>"
      ],
      "text/plain": [
       "               Apple   Monster  1M Treasury\n",
       "Date                                       \n",
       "1986-02-01  0.081075  0.142857     0.023400\n",
       "1986-03-01  0.130001  0.249999     0.021133\n",
       "1986-04-01  0.070800  0.000000     0.020333\n",
       "1986-05-01  0.223140  0.000000     0.021000\n",
       "1986-06-01 -0.030409  0.000000     0.019867"
      ]
     },
     "execution_count": 38,
     "metadata": {},
     "output_type": "execute_result"
    }
   ],
   "source": [
    "rets.head()"
   ]
  },
  {
   "cell_type": "code",
   "execution_count": 39,
   "metadata": {},
   "outputs": [
    {
     "data": {
      "text/plain": [
       "<AxesSubplot:title={'center':'Growth of One Dollar Invested'}, xlabel='Date'>"
      ]
     },
     "execution_count": 39,
     "metadata": {},
     "output_type": "execute_result"
    },
    {
     "data": {
      "image/png": "[encoded data removed]",
      "text/plain": [
       "<Figure size 800x550 with 1 Axes>"
      ]
     },
     "metadata": {},
     "output_type": "display_data"
    }
   ],
   "source": [
    "((1+rets).cumprod()).plot(title='Growth of One Dollar Invested')"
   ]
  },
  {
   "cell_type": "code",
   "execution_count": 40,
   "metadata": {},
   "outputs": [],
   "source": [
    "def performance_summary(return_data, annualization = 12):\n",
    "    \"\"\" \n",
    "        Returns the Performance Stats for given set of returns\n",
    "        Inputs: \n",
    "            return_data - DataFrame with Date index and Monthly Returns for different assets/strategies.\n",
    "        Output:\n",
    "            summary_stats - DataFrame with annualized mean return, vol, sharpe ratio. Skewness, Excess Kurtosis, Var (0.5) and\n",
    "                            CVaR (0.5) and drawdown based on monthly returns. \n",
    "    \"\"\"\n",
    "    summary_stats = return_data.mean().to_frame('Mean').apply(lambda x: x*annualization)\n",
    "    summary_stats['Volatility'] = return_data.std().apply(lambda x: x*np.sqrt(annualization))\n",
    "    summary_stats['Sharpe Ratio'] = summary_stats['Mean']/summary_stats['Volatility']\n",
    "\n",
    "    summary_stats['Skewness'] = return_data.skew()\n",
    "    summary_stats['Excess Kurtosis'] = return_data.kurtosis()\n",
    "    summary_stats['VaR (0.05)'] = return_data.quantile(.05, axis = 0)\n",
    "    summary_stats['CVaR (0.05)'] = return_data[return_data <= return_data.quantile(.05, axis = 0)].mean()\n",
    "    \n",
    "    wealth_index = 1000*(1+return_data).cumprod()\n",
    "    previous_peaks = wealth_index.cummax()\n",
    "    drawdowns = (wealth_index - previous_peaks)/previous_peaks\n",
    "\n",
    "    summary_stats['Max Drawdown'] = drawdowns.min()\n",
    "    summary_stats['Peak'] = [previous_peaks[col][:drawdowns[col].idxmin()].idxmax() for col in previous_peaks.columns]\n",
    "    summary_stats['Bottom'] = drawdowns.idxmin()\n",
    "    \n",
    "    recovery_date = []\n",
    "    for col in wealth_index.columns:\n",
    "        prev_max = previous_peaks[col][:drawdowns[col].idxmin()].max()\n",
    "        recovery_wealth = pd.DataFrame([wealth_index[col][drawdowns[col].idxmin():]]).T\n",
    "        recovery_date.append(recovery_wealth[recovery_wealth[col] >= prev_max].index.min())\n",
    "    summary_stats['Recovery'] = recovery_date\n",
    "    \n",
    "    return summary_stats"
   ]
  },
  {
   "cell_type": "code",
   "execution_count": 44,
   "metadata": {},
   "outputs": [
    {
     "data": {
      "text/html": [
       "<div>\n",
       "<style scoped>\n",
       "    .dataframe tbody tr th:only-of-type {\n",
       "        vertical-align: middle;\n",
       "    }\n",
       "\n",
       "    .dataframe tbody tr th {\n",
       "        vertical-align: top;\n",
       "    }\n",
       "\n",
       "    .dataframe thead th {\n",
       "        text-align: right;\n",
       "    }\n",
       "</style>\n",
       "<table border=\"1\" class=\"dataframe\">\n",
       "  <thead>\n",
       "    <tr style=\"text-align: right;\">\n",
       "      <th></th>\n",
       "      <th>Mean</th>\n",
       "      <th>Volatility</th>\n",
       "      <th>Sharpe Ratio</th>\n",
       "      <th>Skewness</th>\n",
       "      <th>Excess Kurtosis</th>\n",
       "      <th>VaR (0.05)</th>\n",
       "      <th>CVaR (0.05)</th>\n",
       "      <th>Max Drawdown</th>\n",
       "      <th>Peak</th>\n",
       "      <th>Bottom</th>\n",
       "      <th>Recovery</th>\n",
       "    </tr>\n",
       "  </thead>\n",
       "  <tbody>\n",
       "    <tr>\n",
       "      <th>Apple</th>\n",
       "      <td>0.296510</td>\n",
       "      <td>0.428675</td>\n",
       "      <td>0.691691</td>\n",
       "      <td>-0.157501</td>\n",
       "      <td>1.531374</td>\n",
       "      <td>-0.156476</td>\n",
       "      <td>-0.247576</td>\n",
       "      <td>-0.796380</td>\n",
       "      <td>1991-03-01</td>\n",
       "      <td>1997-12-01</td>\n",
       "      <td>1999-08-01</td>\n",
       "    </tr>\n",
       "    <tr>\n",
       "      <th>Monster</th>\n",
       "      <td>0.330682</td>\n",
       "      <td>0.592894</td>\n",
       "      <td>0.557742</td>\n",
       "      <td>1.572179</td>\n",
       "      <td>7.593614</td>\n",
       "      <td>-0.187510</td>\n",
       "      <td>-0.282981</td>\n",
       "      <td>-0.946222</td>\n",
       "      <td>1986-03-01</td>\n",
       "      <td>1995-12-01</td>\n",
       "      <td>2004-03-01</td>\n",
       "    </tr>\n",
       "    <tr>\n",
       "      <th>1M Treasury</th>\n",
       "      <td>0.118183</td>\n",
       "      <td>0.028528</td>\n",
       "      <td>4.142764</td>\n",
       "      <td>0.311066</td>\n",
       "      <td>-1.126604</td>\n",
       "      <td>0.000061</td>\n",
       "      <td>0.000029</td>\n",
       "      <td>0.000000</td>\n",
       "      <td>1986-02-01</td>\n",
       "      <td>1986-02-01</td>\n",
       "      <td>1986-02-01</td>\n",
       "    </tr>\n",
       "  </tbody>\n",
       "</table>\n",
       "</div>"
      ],
      "text/plain": [
       "                 Mean  Volatility  Sharpe Ratio  Skewness  Excess Kurtosis  \\\n",
       "Apple        0.296510    0.428675      0.691691 -0.157501         1.531374   \n",
       "Monster      0.330682    0.592894      0.557742  1.572179         7.593614   \n",
       "1M Treasury  0.118183    0.028528      4.142764  0.311066        -1.126604   \n",
       "\n",
       "             VaR (0.05)  CVaR (0.05)  Max Drawdown       Peak     Bottom  \\\n",
       "Apple         -0.156476    -0.247576     -0.796380 1991-03-01 1997-12-01   \n",
       "Monster       -0.187510    -0.282981     -0.946222 1986-03-01 1995-12-01   \n",
       "1M Treasury    0.000061     0.000029      0.000000 1986-02-01 1986-02-01   \n",
       "\n",
       "              Recovery  \n",
       "Apple       1999-08-01  \n",
       "Monster     2004-03-01  \n",
       "1M Treasury 1986-02-01  "
      ]
     },
     "execution_count": 44,
     "metadata": {},
     "output_type": "execute_result"
    }
   ],
   "source": [
    "performance_summary(rets)"
   ]
  },
  {
   "cell_type": "code",
   "execution_count": 46,
   "metadata": {},
   "outputs": [],
   "source": [
    "rets_excess = rets.subtract(rets['1M Treasury'], axis = 0).drop(columns = ['1M Treasury'])"
   ]
  },
  {
   "cell_type": "code",
   "execution_count": 47,
   "metadata": {},
   "outputs": [
    {
     "data": {
      "text/html": [
       "<div>\n",
       "<style scoped>\n",
       "    .dataframe tbody tr th:only-of-type {\n",
       "        vertical-align: middle;\n",
       "    }\n",
       "\n",
       "    .dataframe tbody tr th {\n",
       "        vertical-align: top;\n",
       "    }\n",
       "\n",
       "    .dataframe thead th {\n",
       "        text-align: right;\n",
       "    }\n",
       "</style>\n",
       "<table border=\"1\" class=\"dataframe\">\n",
       "  <thead>\n",
       "    <tr style=\"text-align: right;\">\n",
       "      <th></th>\n",
       "      <th>Mean</th>\n",
       "      <th>Volatility</th>\n",
       "      <th>Sharpe Ratio</th>\n",
       "      <th>Skewness</th>\n",
       "      <th>Excess Kurtosis</th>\n",
       "      <th>VaR (0.05)</th>\n",
       "      <th>CVaR (0.05)</th>\n",
       "      <th>Max Drawdown</th>\n",
       "      <th>Peak</th>\n",
       "      <th>Bottom</th>\n",
       "      <th>Recovery</th>\n",
       "    </tr>\n",
       "  </thead>\n",
       "  <tbody>\n",
       "    <tr>\n",
       "      <th>Apple</th>\n",
       "      <td>0.178327</td>\n",
       "      <td>0.429995</td>\n",
       "      <td>0.414720</td>\n",
       "      <td>-0.232740</td>\n",
       "      <td>1.534991</td>\n",
       "      <td>-0.171765</td>\n",
       "      <td>-0.262088</td>\n",
       "      <td>-0.975348</td>\n",
       "      <td>1987-09-01</td>\n",
       "      <td>2003-03-01</td>\n",
       "      <td>2012-02-01</td>\n",
       "    </tr>\n",
       "    <tr>\n",
       "      <th>Monster</th>\n",
       "      <td>0.212499</td>\n",
       "      <td>0.594616</td>\n",
       "      <td>0.357371</td>\n",
       "      <td>1.479114</td>\n",
       "      <td>7.321383</td>\n",
       "      <td>-0.203362</td>\n",
       "      <td>-0.304043</td>\n",
       "      <td>-0.994600</td>\n",
       "      <td>1986-03-01</td>\n",
       "      <td>1996-03-01</td>\n",
       "      <td>2012-01-01</td>\n",
       "    </tr>\n",
       "  </tbody>\n",
       "</table>\n",
       "</div>"
      ],
      "text/plain": [
       "             Mean  Volatility  Sharpe Ratio  Skewness  Excess Kurtosis  \\\n",
       "Apple    0.178327    0.429995      0.414720 -0.232740         1.534991   \n",
       "Monster  0.212499    0.594616      0.357371  1.479114         7.321383   \n",
       "\n",
       "         VaR (0.05)  CVaR (0.05)  Max Drawdown       Peak     Bottom  \\\n",
       "Apple     -0.171765    -0.262088     -0.975348 1987-09-01 2003-03-01   \n",
       "Monster   -0.203362    -0.304043     -0.994600 1986-03-01 1996-03-01   \n",
       "\n",
       "          Recovery  \n",
       "Apple   2012-02-01  \n",
       "Monster 2012-01-01  "
      ]
     },
     "execution_count": 47,
     "metadata": {},
     "output_type": "execute_result"
    }
   ],
   "source": [
    "performance_summary(rets_excess)"
   ]
  },
  {
   "cell_type": "code",
   "execution_count": null,
   "metadata": {},
   "outputs": [],
   "source": [
    "Ntime, Nassets = rets_excess.shape\n",
    "y = np.ones((Ntime,1))\n",
    "x = rets_excess\n",
    "\n",
    "beta = LinearRegression(fit_intercept=False, positive = True).fit(x,y).coef_.transpose()\n",
    "\n",
    "beta /= beta.sum()\n",
    "\n",
    "beta\n",
    "beta = pd.DataFrame(beta, columns = ['Weight'], index = [rets_excess.columns])\n",
    "beta\n",
    "beta_1 = np.matrix(beta)"
   ]
  },
  {
   "cell_type": "code",
   "execution_count": null,
   "metadata": {},
   "outputs": [
    {
     "data": {
      "text/html": [
       "<div>\n",
       "<style scoped>\n",
       "    .dataframe tbody tr th:only-of-type {\n",
       "        vertical-align: middle;\n",
       "    }\n",
       "\n",
       "    .dataframe tbody tr th {\n",
       "        vertical-align: top;\n",
       "    }\n",
       "\n",
       "    .dataframe thead th {\n",
       "        text-align: right;\n",
       "    }\n",
       "</style>\n",
       "<table border=\"1\" class=\"dataframe\">\n",
       "  <thead>\n",
       "    <tr style=\"text-align: right;\">\n",
       "      <th></th>\n",
       "      <th>Weight</th>\n",
       "    </tr>\n",
       "  </thead>\n",
       "  <tbody>\n",
       "    <tr>\n",
       "      <th>Apple</th>\n",
       "      <td>0.630029</td>\n",
       "    </tr>\n",
       "    <tr>\n",
       "      <th>Monster</th>\n",
       "      <td>0.369971</td>\n",
       "    </tr>\n",
       "  </tbody>\n",
       "</table>\n",
       "</div>"
      ],
      "text/plain": [
       "           Weight\n",
       "Apple    0.630029\n",
       "Monster  0.369971"
      ]
     },
     "execution_count": 28,
     "metadata": {},
     "output_type": "execute_result"
    }
   ],
   "source": [
    "beta"
   ]
  },
  {
   "attachments": {},
   "cell_type": "markdown",
   "metadata": {},
   "source": [
    "# Performance of This Portfolio"
   ]
  },
  {
   "cell_type": "code",
   "execution_count": null,
   "metadata": {},
   "outputs": [],
   "source": [
    "performance_port = rets_excess@np.array(beta)\n",
    "performance_port.columns = ['Pat Helle Portfolio']"
   ]
  },
  {
   "cell_type": "code",
   "execution_count": null,
   "metadata": {},
   "outputs": [
    {
     "data": {
      "text/html": [
       "<div>\n",
       "<style scoped>\n",
       "    .dataframe tbody tr th:only-of-type {\n",
       "        vertical-align: middle;\n",
       "    }\n",
       "\n",
       "    .dataframe tbody tr th {\n",
       "        vertical-align: top;\n",
       "    }\n",
       "\n",
       "    .dataframe thead th {\n",
       "        text-align: right;\n",
       "    }\n",
       "</style>\n",
       "<table border=\"1\" class=\"dataframe\">\n",
       "  <thead>\n",
       "    <tr style=\"text-align: right;\">\n",
       "      <th></th>\n",
       "      <th>Mean</th>\n",
       "      <th>Volatility</th>\n",
       "      <th>Sharpe Ratio</th>\n",
       "      <th>Skewness</th>\n",
       "      <th>Excess Kurtosis</th>\n",
       "      <th>VaR (0.05)</th>\n",
       "      <th>CVaR (0.05)</th>\n",
       "      <th>Max Drawdown</th>\n",
       "      <th>Peak</th>\n",
       "      <th>Bottom</th>\n",
       "      <th>Recovery</th>\n",
       "    </tr>\n",
       "  </thead>\n",
       "  <tbody>\n",
       "    <tr>\n",
       "      <th>Pat Helle Portfolio</th>\n",
       "      <td>0.19097</td>\n",
       "      <td>0.376174</td>\n",
       "      <td>0.507663</td>\n",
       "      <td>0.11906</td>\n",
       "      <td>1.694556</td>\n",
       "      <td>-0.157093</td>\n",
       "      <td>-0.211332</td>\n",
       "      <td>-0.933317</td>\n",
       "      <td>1987-08-01</td>\n",
       "      <td>1997-06-01</td>\n",
       "      <td>2005-09-01</td>\n",
       "    </tr>\n",
       "  </tbody>\n",
       "</table>\n",
       "</div>"
      ],
      "text/plain": [
       "                        Mean  Volatility  Sharpe Ratio  Skewness  \\\n",
       "Pat Helle Portfolio  0.19097    0.376174      0.507663   0.11906   \n",
       "\n",
       "                     Excess Kurtosis  VaR (0.05)  CVaR (0.05)  Max Drawdown  \\\n",
       "Pat Helle Portfolio         1.694556   -0.157093    -0.211332     -0.933317   \n",
       "\n",
       "                          Peak     Bottom   Recovery  \n",
       "Pat Helle Portfolio 1987-08-01 1997-06-01 2005-09-01  "
      ]
     },
     "execution_count": 30,
     "metadata": {},
     "output_type": "execute_result"
    }
   ],
   "source": [
    "performance_summary(performance_port)"
   ]
  },
  {
   "cell_type": "code",
   "execution_count": null,
   "metadata": {},
   "outputs": [
    {
     "data": {
      "text/plain": [
       "<AxesSubplot:title={'center':'Pat Helle Growth of $1 Dollar'}, xlabel='Date'>"
      ]
     },
     "execution_count": 31,
     "metadata": {},
     "output_type": "execute_result"
    },
    {
     "data": {
      "image/png": "[encoded data removed]",
      "text/plain": [
       "<Figure size 800x550 with 1 Axes>"
      ]
     },
     "metadata": {},
     "output_type": "display_data"
    }
   ],
   "source": [
    "cum_performance = ((1+performance_port).cumprod())\n",
    "cum_performance.plot(title = 'Pat Helle Growth of $1 Dollar')"
   ]
  },
  {
   "cell_type": "code",
   "execution_count": null,
   "metadata": {},
   "outputs": [
    {
     "data": {
      "text/html": [
       "<div>\n",
       "<style scoped>\n",
       "    .dataframe tbody tr th:only-of-type {\n",
       "        vertical-align: middle;\n",
       "    }\n",
       "\n",
       "    .dataframe tbody tr th {\n",
       "        vertical-align: top;\n",
       "    }\n",
       "\n",
       "    .dataframe thead th {\n",
       "        text-align: right;\n",
       "    }\n",
       "</style>\n",
       "<table border=\"1\" class=\"dataframe\">\n",
       "  <thead>\n",
       "    <tr style=\"text-align: right;\">\n",
       "      <th></th>\n",
       "      <th>Pat Helle Portfolio</th>\n",
       "    </tr>\n",
       "    <tr>\n",
       "      <th>Date</th>\n",
       "      <th></th>\n",
       "    </tr>\n",
       "  </thead>\n",
       "  <tbody>\n",
       "    <tr>\n",
       "      <th>2022-12-21</th>\n",
       "      <td>83.716024</td>\n",
       "    </tr>\n",
       "  </tbody>\n",
       "</table>\n",
       "</div>"
      ],
      "text/plain": [
       "            Pat Helle Portfolio\n",
       "Date                           \n",
       "2022-12-21            83.716024"
      ]
     },
     "execution_count": 32,
     "metadata": {},
     "output_type": "execute_result"
    }
   ],
   "source": [
    "cum_performance.tail(1)"
   ]
  },
  {
   "attachments": {},
   "cell_type": "markdown",
   "metadata": {},
   "source": [
    "- Gross return of 1053%. \n",
    "- If you put 20,000 dollars at the beginning it would be worth $230,600"
   ]
  },
  {
   "cell_type": "code",
   "execution_count": null,
   "metadata": {},
   "outputs": [
    {
     "name": "stdout",
     "output_type": "stream",
     "text": [
      "[*********************100%***********************]  1 of 1 completed\n"
     ]
    },
    {
     "data": {
      "text/html": [
       "<div>\n",
       "<style scoped>\n",
       "    .dataframe tbody tr th:only-of-type {\n",
       "        vertical-align: middle;\n",
       "    }\n",
       "\n",
       "    .dataframe tbody tr th {\n",
       "        vertical-align: top;\n",
       "    }\n",
       "\n",
       "    .dataframe thead th {\n",
       "        text-align: right;\n",
       "    }\n",
       "</style>\n",
       "<table border=\"1\" class=\"dataframe\">\n",
       "  <thead>\n",
       "    <tr style=\"text-align: right;\">\n",
       "      <th></th>\n",
       "      <th>Mean</th>\n",
       "      <th>Volatility</th>\n",
       "      <th>Sharpe Ratio</th>\n",
       "      <th>Skewness</th>\n",
       "      <th>Excess Kurtosis</th>\n",
       "      <th>VaR (0.05)</th>\n",
       "      <th>CVaR (0.05)</th>\n",
       "      <th>Max Drawdown</th>\n",
       "      <th>Peak</th>\n",
       "      <th>Bottom</th>\n",
       "      <th>Recovery</th>\n",
       "    </tr>\n",
       "  </thead>\n",
       "  <tbody>\n",
       "    <tr>\n",
       "      <th>Adj Close</th>\n",
       "      <td>0.006874</td>\n",
       "      <td>0.050484</td>\n",
       "      <td>0.136165</td>\n",
       "      <td>-0.064472</td>\n",
       "      <td>12.7307</td>\n",
       "      <td>-0.020932</td>\n",
       "      <td>-0.032078</td>\n",
       "      <td>-0.682314</td>\n",
       "      <td>1973-03-14</td>\n",
       "      <td>1974-10-04</td>\n",
       "      <td>1982-11-04</td>\n",
       "    </tr>\n",
       "  </tbody>\n",
       "</table>\n",
       "</div>"
      ],
      "text/plain": [
       "               Mean  Volatility  Sharpe Ratio  Skewness  Excess Kurtosis  \\\n",
       "Adj Close  0.006874    0.050484      0.136165 -0.064472          12.7307   \n",
       "\n",
       "           VaR (0.05)  CVaR (0.05)  Max Drawdown       Peak     Bottom  \\\n",
       "Adj Close   -0.020932    -0.032078     -0.682314 1973-03-14 1974-10-04   \n",
       "\n",
       "            Recovery  \n",
       "Adj Close 1982-11-04  "
      ]
     },
     "execution_count": 16,
     "metadata": {},
     "output_type": "execute_result"
    }
   ],
   "source": [
    "coke_cola = pd.DataFrame(yf.download('KO')['Adj Close']).pct_change().dropna()\n",
    "performance_summary(coke_cola)"
   ]
  },
  {
   "cell_type": "code",
   "execution_count": null,
   "metadata": {},
   "outputs": [
    {
     "data": {
      "text/plain": [
       "<AxesSubplot:xlabel='Date'>"
      ]
     },
     "execution_count": 17,
     "metadata": {},
     "output_type": "execute_result"
    },
    {
     "data": {
      "image/png": "[encoded data removed]",
      "text/plain": [
       "<Figure size 800x550 with 1 Axes>"
      ]
     },
     "metadata": {},
     "output_type": "display_data"
    }
   ],
   "source": [
    "cum_return_coke = ((1+coke_cola).cumprod())\n",
    "cum_return_coke.plot()"
   ]
  },
  {
   "cell_type": "code",
   "execution_count": null,
   "metadata": {},
   "outputs": [
    {
     "data": {
      "text/html": [
       "<div>\n",
       "<style scoped>\n",
       "    .dataframe tbody tr th:only-of-type {\n",
       "        vertical-align: middle;\n",
       "    }\n",
       "\n",
       "    .dataframe tbody tr th {\n",
       "        vertical-align: top;\n",
       "    }\n",
       "\n",
       "    .dataframe thead th {\n",
       "        text-align: right;\n",
       "    }\n",
       "</style>\n",
       "<table border=\"1\" class=\"dataframe\">\n",
       "  <thead>\n",
       "    <tr style=\"text-align: right;\">\n",
       "      <th></th>\n",
       "      <th>Adj Close</th>\n",
       "    </tr>\n",
       "    <tr>\n",
       "      <th>Date</th>\n",
       "      <th></th>\n",
       "    </tr>\n",
       "  </thead>\n",
       "  <tbody>\n",
       "    <tr>\n",
       "      <th>2022-12-15</th>\n",
       "      <td>1270.748387</td>\n",
       "    </tr>\n",
       "    <tr>\n",
       "      <th>2022-12-16</th>\n",
       "      <td>1263.499612</td>\n",
       "    </tr>\n",
       "    <tr>\n",
       "      <th>2022-12-19</th>\n",
       "      <td>1265.311806</td>\n",
       "    </tr>\n",
       "    <tr>\n",
       "      <th>2022-12-20</th>\n",
       "      <td>1264.305049</td>\n",
       "    </tr>\n",
       "    <tr>\n",
       "      <th>2022-12-21</th>\n",
       "      <td>1284.641821</td>\n",
       "    </tr>\n",
       "  </tbody>\n",
       "</table>\n",
       "</div>"
      ],
      "text/plain": [
       "              Adj Close\n",
       "Date                   \n",
       "2022-12-15  1270.748387\n",
       "2022-12-16  1263.499612\n",
       "2022-12-19  1265.311806\n",
       "2022-12-20  1264.305049\n",
       "2022-12-21  1284.641821"
      ]
     },
     "execution_count": 18,
     "metadata": {},
     "output_type": "execute_result"
    }
   ],
   "source": [
    "cum_return_coke.tail()"
   ]
  }
 ],
 "metadata": {
  "kernelspec": {
   "display_name": "base",
   "language": "python",
   "name": "python3"
  },
  "language_info": {
   "codemirror_mode": {
    "name": "ipython",
    "version": 3
   },
   "file_extension": ".py",
   "mimetype": "text/x-python",
   "name": "python",
   "nbconvert_exporter": "python",
   "pygments_lexer": "ipython3",
   "version": "3.9.13 (main, Aug 25 2022, 23:51:50) [MSC v.1916 64 bit (AMD64)]"
  },
  "orig_nbformat": 4,
  "vscode": {
   "interpreter": {
    "hash": "44a761cc06a695ddb39d99b7e807436f731f960c127538853a5b90f596df33e4"
   }
  }
 },
 "nbformat": 4,
 "nbformat_minor": 2
}
