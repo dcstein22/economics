{
 "cells": [
  {
   "attachments": {},
   "cell_type": "markdown",
   "metadata": {},
   "source": [
    "# Hypothetical Allocation \n",
    "\n",
    "- Apple, Home Depot, Honeywell, Palantir, Crowdstrike"
   ]
  },
  {
   "cell_type": "code",
   "execution_count": 51,
   "metadata": {},
   "outputs": [],
   "source": [
    "import pandas as pd\n",
    "import numpy as np\n",
    "import matplotlib.pyplot as plt\n",
    "import statsmodels.api as sm \n",
    "import matplotlib as mpl\n",
    "import seaborn as sns\n",
    "import scipy as scs\n",
    "import math\n",
    "import yfinance as yf\n",
    "from statsmodels.regression.rolling import RollingOLS\n",
    "from sklearn.linear_model import LinearRegression, Lasso, Ridge\n",
    "from statsmodels.regression.quantile_regression import QuantReg\n",
    "\n",
    "from sklearn.linear_model import QuantileRegressor\n",
    "from sklearn.decomposition import PCA\n",
    "\n",
    "from scipy.optimize import lsq_linear\n",
    "import warnings\n",
    "warnings.filterwarnings(\"ignore\")\n",
    "plt.style.use(\"seaborn\")\n",
    "mpl.rcParams['font.family'] = 'serif'\n",
    "%matplotlib inline"
   ]
  },
  {
   "cell_type": "code",
   "execution_count": 99,
   "metadata": {},
   "outputs": [
    {
     "name": "stdout",
     "output_type": "stream",
     "text": [
      "[*********************100%***********************]  1 of 1 completed\n",
      "[*********************100%***********************]  6 of 6 completed\n"
     ]
    }
   ],
   "source": [
    "tickers = 'AAPL HD HON BAX COST WMT'\n",
    "rf = pd.DataFrame(yf.download('^IRX', start = '2010-01-01',interval = '1mo')['Adj Close']).dropna()\n",
    "rf.columns = ['3M Treasury']\n",
    "rf['3M Treasury'] *= 10**-2\n",
    "rf['3M Treasury'] /= 3\n",
    "assets = pd.DataFrame(yf.download(tickers, interval = '1mo')['Adj Close']).dropna()\n",
    "\n",
    "assets.columns = ['Apple','Bank of America', 'Costco','Home Depot','Honeywell','Walmart']\n",
    "rets = assets.pct_change().dropna()"
   ]
  },
  {
   "cell_type": "code",
   "execution_count": 100,
   "metadata": {},
   "outputs": [],
   "source": [
    "rets = rets.join(rf, how = 'inner')"
   ]
  },
  {
   "cell_type": "code",
   "execution_count": 101,
   "metadata": {},
   "outputs": [
    {
     "data": {
      "text/html": [
       "<div>\n",
       "<style scoped>\n",
       "    .dataframe tbody tr th:only-of-type {\n",
       "        vertical-align: middle;\n",
       "    }\n",
       "\n",
       "    .dataframe tbody tr th {\n",
       "        vertical-align: top;\n",
       "    }\n",
       "\n",
       "    .dataframe thead th {\n",
       "        text-align: right;\n",
       "    }\n",
       "</style>\n",
       "<table border=\"1\" class=\"dataframe\">\n",
       "  <thead>\n",
       "    <tr style=\"text-align: right;\">\n",
       "      <th></th>\n",
       "      <th>Apple</th>\n",
       "      <th>Bank of America</th>\n",
       "      <th>Costco</th>\n",
       "      <th>Home Depot</th>\n",
       "      <th>Honeywell</th>\n",
       "      <th>Walmart</th>\n",
       "      <th>3M Treasury</th>\n",
       "    </tr>\n",
       "    <tr>\n",
       "      <th>Date</th>\n",
       "      <th></th>\n",
       "      <th></th>\n",
       "      <th></th>\n",
       "      <th></th>\n",
       "      <th></th>\n",
       "      <th></th>\n",
       "      <th></th>\n",
       "    </tr>\n",
       "  </thead>\n",
       "  <tbody>\n",
       "    <tr>\n",
       "      <th>2010-01-01</th>\n",
       "      <td>-0.088597</td>\n",
       "      <td>-0.013467</td>\n",
       "      <td>-0.029407</td>\n",
       "      <td>-0.023772</td>\n",
       "      <td>-0.014286</td>\n",
       "      <td>0.004667</td>\n",
       "      <td>0.000233</td>\n",
       "    </tr>\n",
       "    <tr>\n",
       "      <th>2010-02-01</th>\n",
       "      <td>0.065396</td>\n",
       "      <td>-0.011460</td>\n",
       "      <td>0.061640</td>\n",
       "      <td>0.113888</td>\n",
       "      <td>0.039337</td>\n",
       "      <td>0.011978</td>\n",
       "      <td>0.000383</td>\n",
       "    </tr>\n",
       "    <tr>\n",
       "      <th>2010-03-01</th>\n",
       "      <td>0.148470</td>\n",
       "      <td>0.022308</td>\n",
       "      <td>-0.017657</td>\n",
       "      <td>0.036859</td>\n",
       "      <td>0.136085</td>\n",
       "      <td>0.028297</td>\n",
       "      <td>0.000500</td>\n",
       "    </tr>\n",
       "    <tr>\n",
       "      <th>2010-04-01</th>\n",
       "      <td>0.111021</td>\n",
       "      <td>-0.184685</td>\n",
       "      <td>-0.010551</td>\n",
       "      <td>0.097128</td>\n",
       "      <td>0.048598</td>\n",
       "      <td>-0.029814</td>\n",
       "      <td>0.000517</td>\n",
       "    </tr>\n",
       "    <tr>\n",
       "      <th>2010-05-01</th>\n",
       "      <td>-0.016125</td>\n",
       "      <td>-0.105676</td>\n",
       "      <td>-0.014049</td>\n",
       "      <td>-0.038888</td>\n",
       "      <td>-0.099009</td>\n",
       "      <td>-0.057419</td>\n",
       "      <td>0.000500</td>\n",
       "    </tr>\n",
       "  </tbody>\n",
       "</table>\n",
       "</div>"
      ],
      "text/plain": [
       "               Apple  Bank of America    Costco  Home Depot  Honeywell  \\\n",
       "Date                                                                     \n",
       "2010-01-01 -0.088597        -0.013467 -0.029407   -0.023772  -0.014286   \n",
       "2010-02-01  0.065396        -0.011460  0.061640    0.113888   0.039337   \n",
       "2010-03-01  0.148470         0.022308 -0.017657    0.036859   0.136085   \n",
       "2010-04-01  0.111021        -0.184685 -0.010551    0.097128   0.048598   \n",
       "2010-05-01 -0.016125        -0.105676 -0.014049   -0.038888  -0.099009   \n",
       "\n",
       "             Walmart  3M Treasury  \n",
       "Date                               \n",
       "2010-01-01  0.004667     0.000233  \n",
       "2010-02-01  0.011978     0.000383  \n",
       "2010-03-01  0.028297     0.000500  \n",
       "2010-04-01 -0.029814     0.000517  \n",
       "2010-05-01 -0.057419     0.000500  "
      ]
     },
     "execution_count": 101,
     "metadata": {},
     "output_type": "execute_result"
    }
   ],
   "source": [
    "rets.head()"
   ]
  },
  {
   "cell_type": "code",
   "execution_count": 102,
   "metadata": {},
   "outputs": [
    {
     "data": {
      "text/plain": [
       "<AxesSubplot:title={'center':'Growth of One Dollar Invested'}, xlabel='Date'>"
      ]
     },
     "execution_count": 102,
     "metadata": {},
     "output_type": "execute_result"
    },
    {
     "data": {
      "image/png": "[encoded data removed]",
      "text/plain": [
       "<Figure size 800x550 with 1 Axes>"
      ]
     },
     "metadata": {},
     "output_type": "display_data"
    }
   ],
   "source": [
    "((1+rets).cumprod()).plot(title='Growth of One Dollar Invested')"
   ]
  },
  {
   "cell_type": "code",
   "execution_count": 103,
   "metadata": {},
   "outputs": [],
   "source": [
    "def performance_summary(return_data, annualization = 12):\n",
    "    \"\"\" \n",
    "        Returns the Performance Stats for given set of returns\n",
    "        Inputs: \n",
    "            return_data - DataFrame with Date index and Monthly Returns for different assets/strategies.\n",
    "        Output:\n",
    "            summary_stats - DataFrame with annualized mean return, vol, sharpe ratio. Skewness, Excess Kurtosis, Var (0.5) and\n",
    "                            CVaR (0.5) and drawdown based on monthly returns. \n",
    "    \"\"\"\n",
    "    summary_stats = return_data.mean().to_frame('Mean').apply(lambda x: x*annualization)\n",
    "    summary_stats['Volatility'] = return_data.std().apply(lambda x: x*np.sqrt(annualization))\n",
    "    summary_stats['Sharpe Ratio'] = summary_stats['Mean']/summary_stats['Volatility']\n",
    "\n",
    "    summary_stats['Skewness'] = return_data.skew()\n",
    "    summary_stats['Excess Kurtosis'] = return_data.kurtosis()\n",
    "    summary_stats['VaR (0.05)'] = return_data.quantile(.05, axis = 0)\n",
    "    summary_stats['CVaR (0.05)'] = return_data[return_data <= return_data.quantile(.05, axis = 0)].mean()\n",
    "    \n",
    "    wealth_index = 1000*(1+return_data).cumprod()\n",
    "    previous_peaks = wealth_index.cummax()\n",
    "    drawdowns = (wealth_index - previous_peaks)/previous_peaks\n",
    "\n",
    "    summary_stats['Max Drawdown'] = drawdowns.min()\n",
    "    summary_stats['Peak'] = [previous_peaks[col][:drawdowns[col].idxmin()].idxmax() for col in previous_peaks.columns]\n",
    "    summary_stats['Bottom'] = drawdowns.idxmin()\n",
    "    \n",
    "    recovery_date = []\n",
    "    for col in wealth_index.columns:\n",
    "        prev_max = previous_peaks[col][:drawdowns[col].idxmin()].max()\n",
    "        recovery_wealth = pd.DataFrame([wealth_index[col][drawdowns[col].idxmin():]]).T\n",
    "        recovery_date.append(recovery_wealth[recovery_wealth[col] >= prev_max].index.min())\n",
    "    summary_stats['Recovery'] = recovery_date\n",
    "    \n",
    "    return summary_stats"
   ]
  },
  {
   "cell_type": "code",
   "execution_count": 104,
   "metadata": {},
   "outputs": [
    {
     "data": {
      "text/html": [
       "<div>\n",
       "<style scoped>\n",
       "    .dataframe tbody tr th:only-of-type {\n",
       "        vertical-align: middle;\n",
       "    }\n",
       "\n",
       "    .dataframe tbody tr th {\n",
       "        vertical-align: top;\n",
       "    }\n",
       "\n",
       "    .dataframe thead th {\n",
       "        text-align: right;\n",
       "    }\n",
       "</style>\n",
       "<table border=\"1\" class=\"dataframe\">\n",
       "  <thead>\n",
       "    <tr style=\"text-align: right;\">\n",
       "      <th></th>\n",
       "      <th>Mean</th>\n",
       "      <th>Volatility</th>\n",
       "      <th>Sharpe Ratio</th>\n",
       "      <th>Skewness</th>\n",
       "      <th>Excess Kurtosis</th>\n",
       "      <th>VaR (0.05)</th>\n",
       "      <th>CVaR (0.05)</th>\n",
       "      <th>Max Drawdown</th>\n",
       "      <th>Peak</th>\n",
       "      <th>Bottom</th>\n",
       "      <th>Recovery</th>\n",
       "    </tr>\n",
       "  </thead>\n",
       "  <tbody>\n",
       "    <tr>\n",
       "      <th>Apple</th>\n",
       "      <td>0.272260</td>\n",
       "      <td>0.274292</td>\n",
       "      <td>0.992592</td>\n",
       "      <td>-0.046024</td>\n",
       "      <td>-0.384308</td>\n",
       "      <td>-0.108649</td>\n",
       "      <td>-0.132282</td>\n",
       "      <td>-0.395421</td>\n",
       "      <td>2012-09-01</td>\n",
       "      <td>2013-06-01</td>\n",
       "      <td>2014-06-01</td>\n",
       "    </tr>\n",
       "    <tr>\n",
       "      <th>Bank of America</th>\n",
       "      <td>0.075513</td>\n",
       "      <td>0.208083</td>\n",
       "      <td>0.362901</td>\n",
       "      <td>-0.397798</td>\n",
       "      <td>0.825685</td>\n",
       "      <td>-0.084852</td>\n",
       "      <td>-0.138361</td>\n",
       "      <td>-0.425573</td>\n",
       "      <td>2020-05-01</td>\n",
       "      <td>2022-12-01</td>\n",
       "      <td>NaT</td>\n",
       "    </tr>\n",
       "    <tr>\n",
       "      <th>Costco</th>\n",
       "      <td>0.198482</td>\n",
       "      <td>0.185107</td>\n",
       "      <td>1.072253</td>\n",
       "      <td>-0.250873</td>\n",
       "      <td>0.242914</td>\n",
       "      <td>-0.066441</td>\n",
       "      <td>-0.103386</td>\n",
       "      <td>-0.200858</td>\n",
       "      <td>2022-03-01</td>\n",
       "      <td>2022-12-01</td>\n",
       "      <td>NaT</td>\n",
       "    </tr>\n",
       "    <tr>\n",
       "      <th>Home Depot</th>\n",
       "      <td>0.231447</td>\n",
       "      <td>0.211889</td>\n",
       "      <td>1.092305</td>\n",
       "      <td>-0.110061</td>\n",
       "      <td>0.836994</td>\n",
       "      <td>-0.063270</td>\n",
       "      <td>-0.121388</td>\n",
       "      <td>-0.332386</td>\n",
       "      <td>2021-12-01</td>\n",
       "      <td>2022-06-01</td>\n",
       "      <td>NaT</td>\n",
       "    </tr>\n",
       "    <tr>\n",
       "      <th>Honeywell</th>\n",
       "      <td>0.177117</td>\n",
       "      <td>0.205575</td>\n",
       "      <td>0.861566</td>\n",
       "      <td>0.303129</td>\n",
       "      <td>2.114023</td>\n",
       "      <td>-0.089320</td>\n",
       "      <td>-0.109525</td>\n",
       "      <td>-0.273540</td>\n",
       "      <td>2011-04-01</td>\n",
       "      <td>2011-09-01</td>\n",
       "      <td>2012-03-01</td>\n",
       "    </tr>\n",
       "    <tr>\n",
       "      <th>Walmart</th>\n",
       "      <td>0.115215</td>\n",
       "      <td>0.175997</td>\n",
       "      <td>0.654644</td>\n",
       "      <td>-0.201188</td>\n",
       "      <td>0.733948</td>\n",
       "      <td>-0.060313</td>\n",
       "      <td>-0.101441</td>\n",
       "      <td>-0.329805</td>\n",
       "      <td>2014-11-01</td>\n",
       "      <td>2015-10-01</td>\n",
       "      <td>2017-10-01</td>\n",
       "    </tr>\n",
       "    <tr>\n",
       "      <th>3M Treasury</th>\n",
       "      <td>0.025478</td>\n",
       "      <td>0.011188</td>\n",
       "      <td>2.277381</td>\n",
       "      <td>1.843121</td>\n",
       "      <td>3.074178</td>\n",
       "      <td>0.000017</td>\n",
       "      <td>0.000014</td>\n",
       "      <td>0.000000</td>\n",
       "      <td>2010-01-01</td>\n",
       "      <td>2010-01-01</td>\n",
       "      <td>2010-01-01</td>\n",
       "    </tr>\n",
       "  </tbody>\n",
       "</table>\n",
       "</div>"
      ],
      "text/plain": [
       "                     Mean  Volatility  Sharpe Ratio  Skewness  \\\n",
       "Apple            0.272260    0.274292      0.992592 -0.046024   \n",
       "Bank of America  0.075513    0.208083      0.362901 -0.397798   \n",
       "Costco           0.198482    0.185107      1.072253 -0.250873   \n",
       "Home Depot       0.231447    0.211889      1.092305 -0.110061   \n",
       "Honeywell        0.177117    0.205575      0.861566  0.303129   \n",
       "Walmart          0.115215    0.175997      0.654644 -0.201188   \n",
       "3M Treasury      0.025478    0.011188      2.277381  1.843121   \n",
       "\n",
       "                 Excess Kurtosis  VaR (0.05)  CVaR (0.05)  Max Drawdown  \\\n",
       "Apple                  -0.384308   -0.108649    -0.132282     -0.395421   \n",
       "Bank of America         0.825685   -0.084852    -0.138361     -0.425573   \n",
       "Costco                  0.242914   -0.066441    -0.103386     -0.200858   \n",
       "Home Depot              0.836994   -0.063270    -0.121388     -0.332386   \n",
       "Honeywell               2.114023   -0.089320    -0.109525     -0.273540   \n",
       "Walmart                 0.733948   -0.060313    -0.101441     -0.329805   \n",
       "3M Treasury             3.074178    0.000017     0.000014      0.000000   \n",
       "\n",
       "                      Peak     Bottom   Recovery  \n",
       "Apple           2012-09-01 2013-06-01 2014-06-01  \n",
       "Bank of America 2020-05-01 2022-12-01        NaT  \n",
       "Costco          2022-03-01 2022-12-01        NaT  \n",
       "Home Depot      2021-12-01 2022-06-01        NaT  \n",
       "Honeywell       2011-04-01 2011-09-01 2012-03-01  \n",
       "Walmart         2014-11-01 2015-10-01 2017-10-01  \n",
       "3M Treasury     2010-01-01 2010-01-01 2010-01-01  "
      ]
     },
     "execution_count": 104,
     "metadata": {},
     "output_type": "execute_result"
    }
   ],
   "source": [
    "performance_summary(rets)"
   ]
  },
  {
   "cell_type": "code",
   "execution_count": 105,
   "metadata": {},
   "outputs": [],
   "source": [
    "rets_excess = rets.subtract(rets['3M Treasury'], axis = 0).drop(columns = ['3M Treasury'])"
   ]
  },
  {
   "cell_type": "code",
   "execution_count": 106,
   "metadata": {},
   "outputs": [
    {
     "data": {
      "text/html": [
       "<div>\n",
       "<style scoped>\n",
       "    .dataframe tbody tr th:only-of-type {\n",
       "        vertical-align: middle;\n",
       "    }\n",
       "\n",
       "    .dataframe tbody tr th {\n",
       "        vertical-align: top;\n",
       "    }\n",
       "\n",
       "    .dataframe thead th {\n",
       "        text-align: right;\n",
       "    }\n",
       "</style>\n",
       "<table border=\"1\" class=\"dataframe\">\n",
       "  <thead>\n",
       "    <tr style=\"text-align: right;\">\n",
       "      <th></th>\n",
       "      <th>Mean</th>\n",
       "      <th>Volatility</th>\n",
       "      <th>Sharpe Ratio</th>\n",
       "      <th>Skewness</th>\n",
       "      <th>Excess Kurtosis</th>\n",
       "      <th>VaR (0.05)</th>\n",
       "      <th>CVaR (0.05)</th>\n",
       "      <th>Max Drawdown</th>\n",
       "      <th>Peak</th>\n",
       "      <th>Bottom</th>\n",
       "      <th>Recovery</th>\n",
       "    </tr>\n",
       "  </thead>\n",
       "  <tbody>\n",
       "    <tr>\n",
       "      <th>Apple</th>\n",
       "      <td>0.246782</td>\n",
       "      <td>0.275399</td>\n",
       "      <td>0.896089</td>\n",
       "      <td>-0.068406</td>\n",
       "      <td>-0.358453</td>\n",
       "      <td>-0.113822</td>\n",
       "      <td>-0.137905</td>\n",
       "      <td>-0.396597</td>\n",
       "      <td>2012-09-01</td>\n",
       "      <td>2013-06-01</td>\n",
       "      <td>2014-06-01</td>\n",
       "    </tr>\n",
       "    <tr>\n",
       "      <th>Bank of America</th>\n",
       "      <td>0.050035</td>\n",
       "      <td>0.208999</td>\n",
       "      <td>0.239404</td>\n",
       "      <td>-0.431875</td>\n",
       "      <td>0.917289</td>\n",
       "      <td>-0.087479</td>\n",
       "      <td>-0.143038</td>\n",
       "      <td>-0.476561</td>\n",
       "      <td>2019-08-01</td>\n",
       "      <td>2022-12-21</td>\n",
       "      <td>NaT</td>\n",
       "    </tr>\n",
       "    <tr>\n",
       "      <th>Costco</th>\n",
       "      <td>0.173003</td>\n",
       "      <td>0.186218</td>\n",
       "      <td>0.929034</td>\n",
       "      <td>-0.315770</td>\n",
       "      <td>0.424900</td>\n",
       "      <td>-0.067903</td>\n",
       "      <td>-0.109196</td>\n",
       "      <td>-0.268080</td>\n",
       "      <td>2022-03-01</td>\n",
       "      <td>2022-12-21</td>\n",
       "      <td>NaT</td>\n",
       "    </tr>\n",
       "    <tr>\n",
       "      <th>Home Depot</th>\n",
       "      <td>0.205969</td>\n",
       "      <td>0.212710</td>\n",
       "      <td>0.968308</td>\n",
       "      <td>-0.099206</td>\n",
       "      <td>0.874160</td>\n",
       "      <td>-0.067217</td>\n",
       "      <td>-0.124909</td>\n",
       "      <td>-0.348640</td>\n",
       "      <td>2021-12-01</td>\n",
       "      <td>2022-09-01</td>\n",
       "      <td>NaT</td>\n",
       "    </tr>\n",
       "    <tr>\n",
       "      <th>Honeywell</th>\n",
       "      <td>0.151638</td>\n",
       "      <td>0.205592</td>\n",
       "      <td>0.737569</td>\n",
       "      <td>0.259924</td>\n",
       "      <td>2.009197</td>\n",
       "      <td>-0.091191</td>\n",
       "      <td>-0.113543</td>\n",
       "      <td>-0.300512</td>\n",
       "      <td>2021-07-01</td>\n",
       "      <td>2022-09-01</td>\n",
       "      <td>NaT</td>\n",
       "    </tr>\n",
       "    <tr>\n",
       "      <th>Walmart</th>\n",
       "      <td>0.089737</td>\n",
       "      <td>0.175648</td>\n",
       "      <td>0.510890</td>\n",
       "      <td>-0.227154</td>\n",
       "      <td>0.812326</td>\n",
       "      <td>-0.064767</td>\n",
       "      <td>-0.104096</td>\n",
       "      <td>-0.330336</td>\n",
       "      <td>2014-11-01</td>\n",
       "      <td>2015-10-01</td>\n",
       "      <td>2017-10-01</td>\n",
       "    </tr>\n",
       "  </tbody>\n",
       "</table>\n",
       "</div>"
      ],
      "text/plain": [
       "                     Mean  Volatility  Sharpe Ratio  Skewness  \\\n",
       "Apple            0.246782    0.275399      0.896089 -0.068406   \n",
       "Bank of America  0.050035    0.208999      0.239404 -0.431875   \n",
       "Costco           0.173003    0.186218      0.929034 -0.315770   \n",
       "Home Depot       0.205969    0.212710      0.968308 -0.099206   \n",
       "Honeywell        0.151638    0.205592      0.737569  0.259924   \n",
       "Walmart          0.089737    0.175648      0.510890 -0.227154   \n",
       "\n",
       "                 Excess Kurtosis  VaR (0.05)  CVaR (0.05)  Max Drawdown  \\\n",
       "Apple                  -0.358453   -0.113822    -0.137905     -0.396597   \n",
       "Bank of America         0.917289   -0.087479    -0.143038     -0.476561   \n",
       "Costco                  0.424900   -0.067903    -0.109196     -0.268080   \n",
       "Home Depot              0.874160   -0.067217    -0.124909     -0.348640   \n",
       "Honeywell               2.009197   -0.091191    -0.113543     -0.300512   \n",
       "Walmart                 0.812326   -0.064767    -0.104096     -0.330336   \n",
       "\n",
       "                      Peak     Bottom   Recovery  \n",
       "Apple           2012-09-01 2013-06-01 2014-06-01  \n",
       "Bank of America 2019-08-01 2022-12-21        NaT  \n",
       "Costco          2022-03-01 2022-12-21        NaT  \n",
       "Home Depot      2021-12-01 2022-09-01        NaT  \n",
       "Honeywell       2021-07-01 2022-09-01        NaT  \n",
       "Walmart         2014-11-01 2015-10-01 2017-10-01  "
      ]
     },
     "execution_count": 106,
     "metadata": {},
     "output_type": "execute_result"
    }
   ],
   "source": [
    "performance_summary(rets_excess)"
   ]
  },
  {
   "cell_type": "code",
   "execution_count": 107,
   "metadata": {},
   "outputs": [],
   "source": [
    "Ntime, Nassets = rets_excess.shape\n",
    "y = np.ones((Ntime,1))\n",
    "x = rets_excess\n",
    "\n",
    "beta = LinearRegression(fit_intercept=False, positive = True).fit(x,y).coef_.transpose()\n",
    "\n",
    "beta /= beta.sum()\n",
    "\n",
    "beta\n",
    "beta = pd.DataFrame(beta, columns = ['Weight'], index = [rets_excess.columns])\n",
    "beta\n",
    "beta_1 = np.matrix(beta)"
   ]
  },
  {
   "cell_type": "code",
   "execution_count": 108,
   "metadata": {},
   "outputs": [
    {
     "data": {
      "text/html": [
       "<div>\n",
       "<style scoped>\n",
       "    .dataframe tbody tr th:only-of-type {\n",
       "        vertical-align: middle;\n",
       "    }\n",
       "\n",
       "    .dataframe tbody tr th {\n",
       "        vertical-align: top;\n",
       "    }\n",
       "\n",
       "    .dataframe thead th {\n",
       "        text-align: right;\n",
       "    }\n",
       "</style>\n",
       "<table border=\"1\" class=\"dataframe\">\n",
       "  <thead>\n",
       "    <tr style=\"text-align: right;\">\n",
       "      <th></th>\n",
       "      <th>Weight</th>\n",
       "    </tr>\n",
       "  </thead>\n",
       "  <tbody>\n",
       "    <tr>\n",
       "      <th>Apple</th>\n",
       "      <td>0.267870</td>\n",
       "    </tr>\n",
       "    <tr>\n",
       "      <th>Bank of America</th>\n",
       "      <td>0.000000</td>\n",
       "    </tr>\n",
       "    <tr>\n",
       "      <th>Costco</th>\n",
       "      <td>0.322102</td>\n",
       "    </tr>\n",
       "    <tr>\n",
       "      <th>Home Depot</th>\n",
       "      <td>0.361169</td>\n",
       "    </tr>\n",
       "    <tr>\n",
       "      <th>Honeywell</th>\n",
       "      <td>0.043236</td>\n",
       "    </tr>\n",
       "    <tr>\n",
       "      <th>Walmart</th>\n",
       "      <td>0.005624</td>\n",
       "    </tr>\n",
       "  </tbody>\n",
       "</table>\n",
       "</div>"
      ],
      "text/plain": [
       "                   Weight\n",
       "Apple            0.267870\n",
       "Bank of America  0.000000\n",
       "Costco           0.322102\n",
       "Home Depot       0.361169\n",
       "Honeywell        0.043236\n",
       "Walmart          0.005624"
      ]
     },
     "execution_count": 108,
     "metadata": {},
     "output_type": "execute_result"
    }
   ],
   "source": [
    "beta"
   ]
  },
  {
   "attachments": {},
   "cell_type": "markdown",
   "metadata": {},
   "source": [
    "# Performance of This Portfolio"
   ]
  },
  {
   "cell_type": "code",
   "execution_count": 111,
   "metadata": {},
   "outputs": [],
   "source": [
    "performance_port = rets_excess@np.array(beta)\n",
    "performance_port.columns = ['Pat Helle Portfolio']"
   ]
  },
  {
   "cell_type": "code",
   "execution_count": 112,
   "metadata": {},
   "outputs": [
    {
     "data": {
      "text/html": [
       "<div>\n",
       "<style scoped>\n",
       "    .dataframe tbody tr th:only-of-type {\n",
       "        vertical-align: middle;\n",
       "    }\n",
       "\n",
       "    .dataframe tbody tr th {\n",
       "        vertical-align: top;\n",
       "    }\n",
       "\n",
       "    .dataframe thead th {\n",
       "        text-align: right;\n",
       "    }\n",
       "</style>\n",
       "<table border=\"1\" class=\"dataframe\">\n",
       "  <thead>\n",
       "    <tr style=\"text-align: right;\">\n",
       "      <th></th>\n",
       "      <th>Mean</th>\n",
       "      <th>Volatility</th>\n",
       "      <th>Sharpe Ratio</th>\n",
       "      <th>Skewness</th>\n",
       "      <th>Excess Kurtosis</th>\n",
       "      <th>VaR (0.05)</th>\n",
       "      <th>CVaR (0.05)</th>\n",
       "      <th>Max Drawdown</th>\n",
       "      <th>Peak</th>\n",
       "      <th>Bottom</th>\n",
       "      <th>Recovery</th>\n",
       "    </tr>\n",
       "  </thead>\n",
       "  <tbody>\n",
       "    <tr>\n",
       "      <th>Pat Helle Portfolio</th>\n",
       "      <td>0.20328</td>\n",
       "      <td>0.173941</td>\n",
       "      <td>1.168677</td>\n",
       "      <td>-0.12717</td>\n",
       "      <td>-0.241371</td>\n",
       "      <td>-0.072604</td>\n",
       "      <td>-0.087285</td>\n",
       "      <td>-0.262233</td>\n",
       "      <td>2021-12-01</td>\n",
       "      <td>2022-09-01</td>\n",
       "      <td>NaT</td>\n",
       "    </tr>\n",
       "  </tbody>\n",
       "</table>\n",
       "</div>"
      ],
      "text/plain": [
       "                        Mean  Volatility  Sharpe Ratio  Skewness  \\\n",
       "Pat Helle Portfolio  0.20328    0.173941      1.168677  -0.12717   \n",
       "\n",
       "                     Excess Kurtosis  VaR (0.05)  CVaR (0.05)  Max Drawdown  \\\n",
       "Pat Helle Portfolio        -0.241371   -0.072604    -0.087285     -0.262233   \n",
       "\n",
       "                          Peak     Bottom Recovery  \n",
       "Pat Helle Portfolio 2021-12-01 2022-09-01      NaT  "
      ]
     },
     "execution_count": 112,
     "metadata": {},
     "output_type": "execute_result"
    }
   ],
   "source": [
    "performance_summary(performance_port)"
   ]
  },
  {
   "cell_type": "code",
   "execution_count": 114,
   "metadata": {},
   "outputs": [
    {
     "data": {
      "text/plain": [
       "<AxesSubplot:title={'center':'Pat Helle Growth of $1 Dollar'}, xlabel='Date'>"
      ]
     },
     "execution_count": 114,
     "metadata": {},
     "output_type": "execute_result"
    },
    {
     "data": {
      "image/png": "[encoded data removed]",
      "text/plain": [
       "<Figure size 800x550 with 1 Axes>"
      ]
     },
     "metadata": {},
     "output_type": "display_data"
    }
   ],
   "source": [
    "cum_performance = ((1+performance_port).cumprod())\n",
    "cum_performance.plot(title = 'Pat Helle Growth of $1 Dollar')"
   ]
  },
  {
   "cell_type": "code",
   "execution_count": 115,
   "metadata": {},
   "outputs": [
    {
     "data": {
      "text/html": [
       "<div>\n",
       "<style scoped>\n",
       "    .dataframe tbody tr th:only-of-type {\n",
       "        vertical-align: middle;\n",
       "    }\n",
       "\n",
       "    .dataframe tbody tr th {\n",
       "        vertical-align: top;\n",
       "    }\n",
       "\n",
       "    .dataframe thead th {\n",
       "        text-align: right;\n",
       "    }\n",
       "</style>\n",
       "<table border=\"1\" class=\"dataframe\">\n",
       "  <thead>\n",
       "    <tr style=\"text-align: right;\">\n",
       "      <th></th>\n",
       "      <th>Pat Helle Portfolio</th>\n",
       "    </tr>\n",
       "    <tr>\n",
       "      <th>Date</th>\n",
       "      <th></th>\n",
       "    </tr>\n",
       "  </thead>\n",
       "  <tbody>\n",
       "    <tr>\n",
       "      <th>2022-12-21</th>\n",
       "      <td>11.538928</td>\n",
       "    </tr>\n",
       "  </tbody>\n",
       "</table>\n",
       "</div>"
      ],
      "text/plain": [
       "            Pat Helle Portfolio\n",
       "Date                           \n",
       "2022-12-21            11.538928"
      ]
     },
     "execution_count": 115,
     "metadata": {},
     "output_type": "execute_result"
    }
   ],
   "source": [
    "cum_performance.tail(1)"
   ]
  },
  {
   "attachments": {},
   "cell_type": "markdown",
   "metadata": {},
   "source": [
    "- Gross return of 1053%. \n",
    "- If you put 20,000 dollars at the beginning it would be worth $230,600"
   ]
  },
  {
   "cell_type": "code",
   "execution_count": 117,
   "metadata": {},
   "outputs": [
    {
     "name": "stdout",
     "output_type": "stream",
     "text": [
      "[*********************100%***********************]  1 of 1 completed\n"
     ]
    },
    {
     "data": {
      "text/html": [
       "<div>\n",
       "<style scoped>\n",
       "    .dataframe tbody tr th:only-of-type {\n",
       "        vertical-align: middle;\n",
       "    }\n",
       "\n",
       "    .dataframe tbody tr th {\n",
       "        vertical-align: top;\n",
       "    }\n",
       "\n",
       "    .dataframe thead th {\n",
       "        text-align: right;\n",
       "    }\n",
       "</style>\n",
       "<table border=\"1\" class=\"dataframe\">\n",
       "  <thead>\n",
       "    <tr style=\"text-align: right;\">\n",
       "      <th></th>\n",
       "      <th>Mean</th>\n",
       "      <th>Volatility</th>\n",
       "      <th>Sharpe Ratio</th>\n",
       "      <th>Skewness</th>\n",
       "      <th>Excess Kurtosis</th>\n",
       "      <th>VaR (0.05)</th>\n",
       "      <th>CVaR (0.05)</th>\n",
       "      <th>Max Drawdown</th>\n",
       "      <th>Peak</th>\n",
       "      <th>Bottom</th>\n",
       "      <th>Recovery</th>\n",
       "    </tr>\n",
       "  </thead>\n",
       "  <tbody>\n",
       "    <tr>\n",
       "      <th>Adj Close</th>\n",
       "      <td>0.006874</td>\n",
       "      <td>0.050484</td>\n",
       "      <td>0.136165</td>\n",
       "      <td>-0.064474</td>\n",
       "      <td>12.730757</td>\n",
       "      <td>-0.020932</td>\n",
       "      <td>-0.032078</td>\n",
       "      <td>-0.682314</td>\n",
       "      <td>1973-03-14</td>\n",
       "      <td>1974-10-04</td>\n",
       "      <td>1982-11-04</td>\n",
       "    </tr>\n",
       "  </tbody>\n",
       "</table>\n",
       "</div>"
      ],
      "text/plain": [
       "               Mean  Volatility  Sharpe Ratio  Skewness  Excess Kurtosis  \\\n",
       "Adj Close  0.006874    0.050484      0.136165 -0.064474        12.730757   \n",
       "\n",
       "           VaR (0.05)  CVaR (0.05)  Max Drawdown       Peak     Bottom  \\\n",
       "Adj Close   -0.020932    -0.032078     -0.682314 1973-03-14 1974-10-04   \n",
       "\n",
       "            Recovery  \n",
       "Adj Close 1982-11-04  "
      ]
     },
     "execution_count": 117,
     "metadata": {},
     "output_type": "execute_result"
    }
   ],
   "source": [
    "coke_cola = pd.DataFrame(yf.download('KO')['Adj Close']).pct_change().dropna()\n",
    "performance_summary(coke_cola)"
   ]
  },
  {
   "cell_type": "code",
   "execution_count": 121,
   "metadata": {},
   "outputs": [
    {
     "data": {
      "text/plain": [
       "<AxesSubplot:xlabel='Date'>"
      ]
     },
     "execution_count": 121,
     "metadata": {},
     "output_type": "execute_result"
    },
    {
     "data": {
      "image/png": "[encoded data removed]",
      "text/plain": [
       "<Figure size 800x550 with 1 Axes>"
      ]
     },
     "metadata": {},
     "output_type": "display_data"
    }
   ],
   "source": [
    "cum_return_coke = ((1+coke_cola).cumprod())\n",
    "cum_return_coke.plot()"
   ]
  },
  {
   "cell_type": "code",
   "execution_count": 123,
   "metadata": {},
   "outputs": [
    {
     "data": {
      "text/html": [
       "<div>\n",
       "<style scoped>\n",
       "    .dataframe tbody tr th:only-of-type {\n",
       "        vertical-align: middle;\n",
       "    }\n",
       "\n",
       "    .dataframe tbody tr th {\n",
       "        vertical-align: top;\n",
       "    }\n",
       "\n",
       "    .dataframe thead th {\n",
       "        text-align: right;\n",
       "    }\n",
       "</style>\n",
       "<table border=\"1\" class=\"dataframe\">\n",
       "  <thead>\n",
       "    <tr style=\"text-align: right;\">\n",
       "      <th></th>\n",
       "      <th>Adj Close</th>\n",
       "    </tr>\n",
       "    <tr>\n",
       "      <th>Date</th>\n",
       "      <th></th>\n",
       "    </tr>\n",
       "  </thead>\n",
       "  <tbody>\n",
       "    <tr>\n",
       "      <th>2022-12-15</th>\n",
       "      <td>1270.748101</td>\n",
       "    </tr>\n",
       "    <tr>\n",
       "      <th>2022-12-16</th>\n",
       "      <td>1263.499328</td>\n",
       "    </tr>\n",
       "    <tr>\n",
       "      <th>2022-12-19</th>\n",
       "      <td>1265.311521</td>\n",
       "    </tr>\n",
       "    <tr>\n",
       "      <th>2022-12-20</th>\n",
       "      <td>1264.304764</td>\n",
       "    </tr>\n",
       "    <tr>\n",
       "      <th>2022-12-21</th>\n",
       "      <td>1284.641532</td>\n",
       "    </tr>\n",
       "  </tbody>\n",
       "</table>\n",
       "</div>"
      ],
      "text/plain": [
       "              Adj Close\n",
       "Date                   \n",
       "2022-12-15  1270.748101\n",
       "2022-12-16  1263.499328\n",
       "2022-12-19  1265.311521\n",
       "2022-12-20  1264.304764\n",
       "2022-12-21  1284.641532"
      ]
     },
     "execution_count": 123,
     "metadata": {},
     "output_type": "execute_result"
    }
   ],
   "source": [
    "cum_return_coke.tail()"
   ]
  }
 ],
 "metadata": {
  "kernelspec": {
   "display_name": "base",
   "language": "python",
   "name": "python3"
  },
  "language_info": {
   "codemirror_mode": {
    "name": "ipython",
    "version": 3
   },
   "file_extension": ".py",
   "mimetype": "text/x-python",
   "name": "python",
   "nbconvert_exporter": "python",
   "pygments_lexer": "ipython3",
   "version": "3.9.13 (main, Aug 25 2022, 23:51:50) [MSC v.1916 64 bit (AMD64)]"
  },
  "orig_nbformat": 4,
  "vscode": {
   "interpreter": {
    "hash": "44a761cc06a695ddb39d99b7e807436f731f960c127538853a5b90f596df33e4"
   }
  }
 },
 "nbformat": 4,
 "nbformat_minor": 2
}
