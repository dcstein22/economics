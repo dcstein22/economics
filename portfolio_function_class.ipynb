{
 "cells": [
  {
   "cell_type": "code",
   "execution_count": 42,
   "metadata": {},
   "outputs": [],
   "source": [
    "import numpy as np\n",
    "import pandas as pd\n",
    "import matplotlib.pyplot as plt\n",
    "import matplotlib as mpl\n",
    "import yfinance as yf\n",
    "import quandl\n",
    "import statsmodels.api as sm\n",
    "import seaborn as sns\n",
    "import scipy.stats as stats\n",
    "import datetime as dt\n",
    "plt.style.use('seaborn')\n",
    "mpl.rcParams['font.family'] = 'serif'\n",
    "apikey = 'J_fXGeVW_zC6RaDeJSQv'\n",
    "quandl.ApiConfig.api_key = apikey"
   ]
  },
  {
   "cell_type": "code",
   "execution_count": 54,
   "metadata": {},
   "outputs": [],
   "source": [
    "d = dt.datetime.today() - dt.timedelta(days= 1)\n"
   ]
  },
  {
   "cell_type": "code",
   "execution_count": 55,
   "metadata": {},
   "outputs": [
    {
     "data": {
      "text/plain": [
       "'2023-04-05 02:29:07.848083'"
      ]
     },
     "execution_count": 55,
     "metadata": {},
     "output_type": "execute_result"
    }
   ],
   "source": [
    "str(d)"
   ]
  },
  {
   "cell_type": "code",
   "execution_count": 256,
   "metadata": {},
   "outputs": [],
   "source": [
    "class Portfolio:\n",
    "\n",
    "    def __init__(self,tickers:list(), shares:list(),cash:float):\n",
    "        self.tickers = tickers\n",
    "        self.shares = shares\n",
    "        self.cash = cash\n",
    "\n",
    "\n",
    "\n",
    "    def return_tick(self):\n",
    "        return self.tickers\n",
    "    def fetch_price_data(self, enddate = None):\n",
    "        if enddate == None:\n",
    "            enddate = dt.datetime.today() - dt.timedelta(days= 1)\n",
    "        else:\n",
    "            enddate = enddate\n",
    "        start_date = '2015-01-01'\n",
    "        price_df = quandl.get_table('QUOTEMEDIA/PRICES', ticker =self.tickers,\\\n",
    "                          qopts = {'columns':['date','ticker','adj_close']},paginate = True, date = {'gte':start_date,'lte':enddate}).set_index('date')\n",
    "        return price_df.pivot_table(values = 'adj_close', columns='ticker', index=price_df.index)\n",
    "        \n",
    "\n",
    "\n",
    "\n",
    "    def portfolio_(self):\n",
    "        price_data = self.fetch_price_data()\n",
    "        lp = price_data.iloc[-1][self.tickers].to_frame(\"Spot_Price\")\n",
    "        P = pd.DataFrame({'ticker':self.tickers,'Shares':self.shares})\n",
    "        P = P.merge(lp, on = 'ticker')\n",
    "        P['MV'] = P['Shares']*P['Spot_Price']\n",
    "        cash_row = pd.DataFrame({'ticker':['Cash'], 'Shares':[0],'Spot_Price':[1],'MV':[self.cash]})\n",
    "        \n",
    "        total_row = pd.DataFrame({'ticker': ['TOTAL'], 'Shares': [0], 'Spot_Price': [0], 'MV': [P['MV'].sum()]})\n",
    "\n",
    "        \n",
    "        P = pd.concat([P,cash_row], axis = 0)\n",
    "        P = pd.concat([P,total_row], axis=0)\n",
    "        \n",
    "\n",
    "        return np.round(P,5)    \n",
    "        \n",
    "\n",
    "        \n",
    "\n",
    "\n",
    "    "
   ]
  },
  {
   "cell_type": "code",
   "execution_count": 241,
   "metadata": {},
   "outputs": [],
   "source": [
    "p = Portfolio(['JPM','AAPL'],[20,80], 5000)\n",
    "t = p.return_tick()"
   ]
  },
  {
   "cell_type": "code",
   "execution_count": 242,
   "metadata": {},
   "outputs": [],
   "source": [
    "PVs = p.fetch_price_data()"
   ]
  },
  {
   "cell_type": "code",
   "execution_count": 243,
   "metadata": {},
   "outputs": [
    {
     "data": {
      "text/plain": [
       "Timestamp('2023-04-05 00:00:00')"
      ]
     },
     "execution_count": 243,
     "metadata": {},
     "output_type": "execute_result"
    }
   ],
   "source": [
    "PVs.index[-1]"
   ]
  },
  {
   "cell_type": "code",
   "execution_count": 205,
   "metadata": {},
   "outputs": [
    {
     "data": {
      "text/plain": [
       "array([0., 0.])"
      ]
     },
     "execution_count": 205,
     "metadata": {},
     "output_type": "execute_result"
    }
   ],
   "source": [
    "np.zeros(2)"
   ]
  },
  {
   "cell_type": "code",
   "execution_count": 251,
   "metadata": {},
   "outputs": [],
   "source": [
    "port = p.portfolio_()\n",
    "my_ticks = ['AMZN',\"COST\",\"HD\",\"JEPI\",\"VTV\",'WAL']\n",
    "num_shares = [6,4.00346+.00712,7.05887,10,4.02437,25]"
   ]
  },
  {
   "cell_type": "code",
   "execution_count": 257,
   "metadata": {},
   "outputs": [],
   "source": [
    "myPort = Portfolio(tickers=my_ticks,shares = num_shares,cash = 5432.06)\n"
   ]
  },
  {
   "cell_type": "code",
   "execution_count": 259,
   "metadata": {},
   "outputs": [],
   "source": [
    "tick_data = myPort.fetch_price_data()"
   ]
  },
  {
   "cell_type": "code",
   "execution_count": 258,
   "metadata": {},
   "outputs": [
    {
     "data": {
      "text/html": [
       "<div>\n",
       "<style scoped>\n",
       "    .dataframe tbody tr th:only-of-type {\n",
       "        vertical-align: middle;\n",
       "    }\n",
       "\n",
       "    .dataframe tbody tr th {\n",
       "        vertical-align: top;\n",
       "    }\n",
       "\n",
       "    .dataframe thead th {\n",
       "        text-align: right;\n",
       "    }\n",
       "</style>\n",
       "<table border=\"1\" class=\"dataframe\">\n",
       "  <thead>\n",
       "    <tr style=\"text-align: right;\">\n",
       "      <th></th>\n",
       "      <th>ticker</th>\n",
       "      <th>Shares</th>\n",
       "      <th>Spot_Price</th>\n",
       "      <th>MV</th>\n",
       "    </tr>\n",
       "  </thead>\n",
       "  <tbody>\n",
       "    <tr>\n",
       "      <th>0</th>\n",
       "      <td>AMZN</td>\n",
       "      <td>6.00000</td>\n",
       "      <td>101.10</td>\n",
       "      <td>606.60000</td>\n",
       "    </tr>\n",
       "    <tr>\n",
       "      <th>1</th>\n",
       "      <td>COST</td>\n",
       "      <td>4.01058</td>\n",
       "      <td>497.13</td>\n",
       "      <td>1993.77964</td>\n",
       "    </tr>\n",
       "    <tr>\n",
       "      <th>2</th>\n",
       "      <td>HD</td>\n",
       "      <td>7.05887</td>\n",
       "      <td>288.67</td>\n",
       "      <td>2037.68400</td>\n",
       "    </tr>\n",
       "    <tr>\n",
       "      <th>3</th>\n",
       "      <td>JEPI</td>\n",
       "      <td>10.00000</td>\n",
       "      <td>54.30</td>\n",
       "      <td>543.00000</td>\n",
       "    </tr>\n",
       "    <tr>\n",
       "      <th>4</th>\n",
       "      <td>VTV</td>\n",
       "      <td>4.02437</td>\n",
       "      <td>138.83</td>\n",
       "      <td>558.70329</td>\n",
       "    </tr>\n",
       "    <tr>\n",
       "      <th>5</th>\n",
       "      <td>WAL</td>\n",
       "      <td>25.00000</td>\n",
       "      <td>29.37</td>\n",
       "      <td>734.25000</td>\n",
       "    </tr>\n",
       "    <tr>\n",
       "      <th>0</th>\n",
       "      <td>Cash</td>\n",
       "      <td>0.00000</td>\n",
       "      <td>1.00</td>\n",
       "      <td>5432.06000</td>\n",
       "    </tr>\n",
       "    <tr>\n",
       "      <th>0</th>\n",
       "      <td>TOTAL</td>\n",
       "      <td>0.00000</td>\n",
       "      <td>0.00</td>\n",
       "      <td>6474.01693</td>\n",
       "    </tr>\n",
       "  </tbody>\n",
       "</table>\n",
       "</div>"
      ],
      "text/plain": [
       "  ticker    Shares  Spot_Price          MV\n",
       "0   AMZN   6.00000      101.10   606.60000\n",
       "1   COST   4.01058      497.13  1993.77964\n",
       "2     HD   7.05887      288.67  2037.68400\n",
       "3   JEPI  10.00000       54.30   543.00000\n",
       "4    VTV   4.02437      138.83   558.70329\n",
       "5    WAL  25.00000       29.37   734.25000\n",
       "0   Cash   0.00000        1.00  5432.06000\n",
       "0  TOTAL   0.00000        0.00  6474.01693"
      ]
     },
     "execution_count": 258,
     "metadata": {},
     "output_type": "execute_result"
    }
   ],
   "source": [
    "myPort.portfolio_()"
   ]
  },
  {
   "cell_type": "code",
   "execution_count": 66,
   "metadata": {},
   "outputs": [
    {
     "data": {
      "text/plain": [
       "5852"
      ]
     },
     "execution_count": 66,
     "metadata": {},
     "output_type": "execute_result"
    }
   ],
   "source": [
    "piv_df = pract_df.pivot_table(values = 'adj_close', columns='ticker', index=pract_df.index)\n"
   ]
  },
  {
   "cell_type": "code",
   "execution_count": 142,
   "metadata": {},
   "outputs": [
    {
     "data": {
      "text/plain": [
       "163.76"
      ]
     },
     "execution_count": 142,
     "metadata": {},
     "output_type": "execute_result"
    }
   ],
   "source": [
    "piv_df.iloc[-1,:].loc['AAPL']"
   ]
  },
  {
   "cell_type": "code",
   "execution_count": 73,
   "metadata": {},
   "outputs": [
    {
     "name": "stdout",
     "output_type": "stream",
     "text": [
      "163.76\n",
      "127.61\n"
     ]
    }
   ],
   "source": [
    "for i in piv_df.columns:\n",
    "    print(piv_df[i][-1])"
   ]
  },
  {
   "cell_type": "code",
   "execution_count": 58,
   "metadata": {},
   "outputs": [
    {
     "data": {
      "text/html": [
       "<div>\n",
       "<style scoped>\n",
       "    .dataframe tbody tr th:only-of-type {\n",
       "        vertical-align: middle;\n",
       "    }\n",
       "\n",
       "    .dataframe tbody tr th {\n",
       "        vertical-align: top;\n",
       "    }\n",
       "\n",
       "    .dataframe thead th {\n",
       "        text-align: right;\n",
       "    }\n",
       "</style>\n",
       "<table border=\"1\" class=\"dataframe\">\n",
       "  <thead>\n",
       "    <tr style=\"text-align: right;\">\n",
       "      <th></th>\n",
       "      <th>ticker</th>\n",
       "      <th>adj_close</th>\n",
       "    </tr>\n",
       "    <tr>\n",
       "      <th>date</th>\n",
       "      <th></th>\n",
       "      <th></th>\n",
       "    </tr>\n",
       "  </thead>\n",
       "  <tbody>\n",
       "    <tr>\n",
       "      <th>2023-04-05</th>\n",
       "      <td>JPM</td>\n",
       "      <td>127.610000</td>\n",
       "    </tr>\n",
       "    <tr>\n",
       "      <th>2023-04-04</th>\n",
       "      <td>JPM</td>\n",
       "      <td>127.421477</td>\n",
       "    </tr>\n",
       "    <tr>\n",
       "      <th>2023-04-03</th>\n",
       "      <td>JPM</td>\n",
       "      <td>129.147948</td>\n",
       "    </tr>\n",
       "    <tr>\n",
       "      <th>2023-03-31</th>\n",
       "      <td>JPM</td>\n",
       "      <td>129.296782</td>\n",
       "    </tr>\n",
       "    <tr>\n",
       "      <th>2023-03-30</th>\n",
       "      <td>JPM</td>\n",
       "      <td>127.748911</td>\n",
       "    </tr>\n",
       "    <tr>\n",
       "      <th>...</th>\n",
       "      <td>...</td>\n",
       "      <td>...</td>\n",
       "    </tr>\n",
       "    <tr>\n",
       "      <th>2000-01-07</th>\n",
       "      <td>AAPL</td>\n",
       "      <td>0.756039</td>\n",
       "    </tr>\n",
       "    <tr>\n",
       "      <th>2000-01-06</th>\n",
       "      <td>AAPL</td>\n",
       "      <td>0.721846</td>\n",
       "    </tr>\n",
       "    <tr>\n",
       "      <th>2000-01-05</th>\n",
       "      <td>AAPL</td>\n",
       "      <td>0.790231</td>\n",
       "    </tr>\n",
       "    <tr>\n",
       "      <th>2000-01-04</th>\n",
       "      <td>AAPL</td>\n",
       "      <td>0.778834</td>\n",
       "    </tr>\n",
       "    <tr>\n",
       "      <th>2000-01-03</th>\n",
       "      <td>AAPL</td>\n",
       "      <td>0.850563</td>\n",
       "    </tr>\n",
       "  </tbody>\n",
       "</table>\n",
       "<p>11704 rows × 2 columns</p>\n",
       "</div>"
      ],
      "text/plain": [
       "           ticker   adj_close\n",
       "date                         \n",
       "2023-04-05    JPM  127.610000\n",
       "2023-04-04    JPM  127.421477\n",
       "2023-04-03    JPM  129.147948\n",
       "2023-03-31    JPM  129.296782\n",
       "2023-03-30    JPM  127.748911\n",
       "...           ...         ...\n",
       "2000-01-07   AAPL    0.756039\n",
       "2000-01-06   AAPL    0.721846\n",
       "2000-01-05   AAPL    0.790231\n",
       "2000-01-04   AAPL    0.778834\n",
       "2000-01-03   AAPL    0.850563\n",
       "\n",
       "[11704 rows x 2 columns]"
      ]
     },
     "execution_count": 58,
     "metadata": {},
     "output_type": "execute_result"
    }
   ],
   "source": [
    "pract_df"
   ]
  }
 ],
 "metadata": {
  "kernelspec": {
   "display_name": "base",
   "language": "python",
   "name": "python3"
  },
  "language_info": {
   "codemirror_mode": {
    "name": "ipython",
    "version": 3
   },
   "file_extension": ".py",
   "mimetype": "text/x-python",
   "name": "python",
   "nbconvert_exporter": "python",
   "pygments_lexer": "ipython3",
   "version": "3.9.13"
  },
  "orig_nbformat": 4
 },
 "nbformat": 4,
 "nbformat_minor": 2
}
