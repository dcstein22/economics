{
 "cells": [
  {
   "cell_type": "code",
   "execution_count": 1,
   "metadata": {},
   "outputs": [],
   "source": [
    "import numpy as np\n",
    "import pandas as pd\n",
    "import matplotlib.pyplot as plt\n",
    "import matplotlib as mpl\n",
    "import yfinance as yf\n",
    "import quandl\n",
    "import statsmodels.api as sm\n",
    "import seaborn as sns\n",
    "import scipy.stats as stats\n",
    "import datetime as dt\n",
    "plt.style.use('seaborn')\n",
    "mpl.rcParams['font.family'] = 'serif'\n",
    "apikey = 'J_fXGeVW_zC6RaDeJSQv'\n",
    "quandl.ApiConfig.api_key = apikey"
   ]
  },
  {
   "cell_type": "code",
   "execution_count": 54,
   "metadata": {},
   "outputs": [],
   "source": [
    "d = dt.datetime.today() - dt.timedelta(days= 1)\n"
   ]
  },
  {
   "cell_type": "code",
   "execution_count": 55,
   "metadata": {},
   "outputs": [
    {
     "data": {
      "text/plain": [
       "'2023-04-05 02:29:07.848083'"
      ]
     },
     "execution_count": 55,
     "metadata": {},
     "output_type": "execute_result"
    }
   ],
   "source": [
    "str(d)"
   ]
  },
  {
   "cell_type": "code",
   "execution_count": 111,
   "metadata": {},
   "outputs": [],
   "source": [
    "class Portfolio:\n",
    "\n",
    "    def __init__(self,tickers:list(), shares:list(),cash:float):\n",
    "        self.tickers = tickers\n",
    "        self.shares = shares\n",
    "        self.cash = cash\n",
    "\n",
    "\n",
    "\n",
    "    def return_tick(self):\n",
    "        return self.tickers\n",
    "    def fetch_price_data(self, enddate = None):\n",
    "        if enddate == None:\n",
    "            enddate = dt.datetime.today() - dt.timedelta(days= 1)\n",
    "        else:\n",
    "            enddate = enddate\n",
    "        start_date = '2015-01-01'\n",
    "        price_df = quandl.get_table('QUOTEMEDIA/PRICES', ticker =self.tickers,\\\n",
    "                          qopts = {'columns':['date','ticker','adj_close']},paginate = True, date = {'gte':start_date,'lte':enddate}).set_index('date')\n",
    "        return price_df.pivot_table(values = 'adj_close', columns='ticker', index=price_df.index)\n",
    "        \n",
    "\n",
    "\n",
    "\n",
    "    def portfolio_(self):\n",
    "        price_data = self.fetch_price_data()\n",
    "        lp = price_data.iloc[-1][self.tickers].to_frame(\"Spot_Price\")\n",
    "        P = pd.DataFrame({'ticker':self.tickers,'Shares':self.shares})\n",
    "        P = P.merge(lp, on = 'ticker')\n",
    "        P['MV'] = P['Shares']*P['Spot_Price']\n",
    "        cash_row = pd.DataFrame({'ticker':['Cash'], 'Shares':[0],'Spot_Price':[1],'MV':[self.cash]})\n",
    "        \n",
    "        total_row = pd.DataFrame({'ticker': ['TOTAL'], 'Shares': [0], 'Spot_Price': [0], 'MV': [P['MV'].sum()]})\n",
    "        \n",
    "        tot_val = P['MV'].sum()\n",
    "        \n",
    "        P = pd.concat([P,cash_row], axis = 0)\n",
    "        P = pd.concat([P,total_row], axis=0)\n",
    "        P['Weight'] = P['MV']/(tot_val)\n",
    "        P \n",
    "        \n",
    "\n",
    "        return np.round(P,5)    \n",
    "    \n",
    "    def covariance_matrix(self):\n",
    "        price_data = self.fetch_price_data()\n",
    "        rets = price_data.pct_change().dropna()\n",
    "        cov = rets.cov()\n",
    "        return cov\n",
    "    def expected_return(self):\n",
    "        price_data = self.fetch_price_data()\n",
    "        rets = price_data.pct_change().dropna()\n",
    "        return rets.mean()\n",
    "        \n",
    "    def expected_peformance(self, time_factor = 1):\n",
    "        cov_matrix = self.covariance_matrix()\n",
    "        portfolio = self.portfolio_()\n",
    "        MVs_port = portfolio.iloc[:-2]['MV'].values\n",
    "        weights = portfolio.iloc[:-2]['Weight'].values\n",
    "        \n",
    "        mu = self.expected_return().values\n",
    "        expect_mu_p = weights.T @ mu\n",
    "        dollar_mu = MVs_port.T @ mu\n",
    "        sigma =  np.sqrt(MVs_port.T @ cov_matrix @ MVs_port)\n",
    "        sigma_ret = np.sqrt(weights.T @ cov_matrix @ weights)\n",
    "        expected_peformance = pd.DataFrame(data = None, index=['Expected_Return','Expected_Sigma','$Expected_MU','$Expected_Sigma'], columns=['Expected_Performance'])\n",
    "        \n",
    "        expected_peformance.loc['Expected_Return','Expected_Performance'] = expect_mu_p*time_factor\n",
    "        expected_peformance.loc['Expected_Sigma','Expected_Performance'] = sigma_ret*np.sqrt(time_factor)\n",
    "\n",
    "        expected_peformance.loc['$Expected_MU','Expected_Performance'] = dollar_mu*time_factor\n",
    "\n",
    "        expected_peformance.loc['$Expected_Sigma','Expected_Performance'] = sigma *np.sqrt(time_factor)\n",
    "\n",
    "        return expected_peformance\n",
    "        \n",
    "        \n",
    "\n",
    "    \n",
    "    \n",
    "        \n",
    "                \n",
    "\n",
    "        \n",
    "\n",
    "\n",
    "    "
   ]
  },
  {
   "cell_type": "code",
   "execution_count": 241,
   "metadata": {},
   "outputs": [],
   "source": [
    "p = Portfolio(['JPM','AAPL'],[20,80], 5000)\n",
    "t = p.return_tick()"
   ]
  },
  {
   "cell_type": "code",
   "execution_count": 242,
   "metadata": {},
   "outputs": [],
   "source": [
    "PVs = p.fetch_price_data()"
   ]
  },
  {
   "cell_type": "code",
   "execution_count": 243,
   "metadata": {},
   "outputs": [
    {
     "data": {
      "text/plain": [
       "Timestamp('2023-04-05 00:00:00')"
      ]
     },
     "execution_count": 243,
     "metadata": {},
     "output_type": "execute_result"
    }
   ],
   "source": [
    "PVs.index[-1]"
   ]
  },
  {
   "cell_type": "code",
   "execution_count": 205,
   "metadata": {},
   "outputs": [
    {
     "data": {
      "text/plain": [
       "array([0., 0.])"
      ]
     },
     "execution_count": 205,
     "metadata": {},
     "output_type": "execute_result"
    }
   ],
   "source": [
    "np.zeros(2)"
   ]
  },
  {
   "cell_type": "code",
   "execution_count": 66,
   "metadata": {},
   "outputs": [],
   "source": [
    "\n",
    "my_ticks = ['AMZN',\"COST\",\"HD\",\"JEPI\",\"VTV\",'WAL']\n",
    "num_shares = [6,4.00346+.00712,7.05887,10,4.02437,25]"
   ]
  },
  {
   "cell_type": "code",
   "execution_count": 112,
   "metadata": {},
   "outputs": [],
   "source": [
    "myPort = Portfolio(tickers=my_ticks,shares = num_shares,cash = 5432.06)\n"
   ]
  },
  {
   "cell_type": "code",
   "execution_count": 82,
   "metadata": {},
   "outputs": [],
   "source": [
    "tick_data = myPort.fetch_price_data()"
   ]
  },
  {
   "cell_type": "code",
   "execution_count": 114,
   "metadata": {},
   "outputs": [
    {
     "data": {
      "text/html": [
       "<div>\n",
       "<style scoped>\n",
       "    .dataframe tbody tr th:only-of-type {\n",
       "        vertical-align: middle;\n",
       "    }\n",
       "\n",
       "    .dataframe tbody tr th {\n",
       "        vertical-align: top;\n",
       "    }\n",
       "\n",
       "    .dataframe thead th {\n",
       "        text-align: right;\n",
       "    }\n",
       "</style>\n",
       "<table border=\"1\" class=\"dataframe\">\n",
       "  <thead>\n",
       "    <tr style=\"text-align: right;\">\n",
       "      <th></th>\n",
       "      <th>ticker</th>\n",
       "      <th>Shares</th>\n",
       "      <th>Spot_Price</th>\n",
       "      <th>MV</th>\n",
       "      <th>Weight</th>\n",
       "    </tr>\n",
       "  </thead>\n",
       "  <tbody>\n",
       "    <tr>\n",
       "      <th>0</th>\n",
       "      <td>AMZN</td>\n",
       "      <td>6.00000</td>\n",
       "      <td>101.10</td>\n",
       "      <td>606.60000</td>\n",
       "      <td>0.09370</td>\n",
       "    </tr>\n",
       "    <tr>\n",
       "      <th>1</th>\n",
       "      <td>COST</td>\n",
       "      <td>4.01058</td>\n",
       "      <td>497.13</td>\n",
       "      <td>1993.77964</td>\n",
       "      <td>0.30797</td>\n",
       "    </tr>\n",
       "    <tr>\n",
       "      <th>2</th>\n",
       "      <td>HD</td>\n",
       "      <td>7.05887</td>\n",
       "      <td>288.67</td>\n",
       "      <td>2037.68400</td>\n",
       "      <td>0.31475</td>\n",
       "    </tr>\n",
       "    <tr>\n",
       "      <th>3</th>\n",
       "      <td>JEPI</td>\n",
       "      <td>10.00000</td>\n",
       "      <td>54.30</td>\n",
       "      <td>543.00000</td>\n",
       "      <td>0.08387</td>\n",
       "    </tr>\n",
       "    <tr>\n",
       "      <th>4</th>\n",
       "      <td>VTV</td>\n",
       "      <td>4.02437</td>\n",
       "      <td>138.83</td>\n",
       "      <td>558.70329</td>\n",
       "      <td>0.08630</td>\n",
       "    </tr>\n",
       "    <tr>\n",
       "      <th>5</th>\n",
       "      <td>WAL</td>\n",
       "      <td>25.00000</td>\n",
       "      <td>29.37</td>\n",
       "      <td>734.25000</td>\n",
       "      <td>0.11341</td>\n",
       "    </tr>\n",
       "    <tr>\n",
       "      <th>0</th>\n",
       "      <td>Cash</td>\n",
       "      <td>0.00000</td>\n",
       "      <td>1.00</td>\n",
       "      <td>5432.06000</td>\n",
       "      <td>0.83906</td>\n",
       "    </tr>\n",
       "    <tr>\n",
       "      <th>0</th>\n",
       "      <td>TOTAL</td>\n",
       "      <td>0.00000</td>\n",
       "      <td>0.00</td>\n",
       "      <td>6474.01693</td>\n",
       "      <td>1.00000</td>\n",
       "    </tr>\n",
       "  </tbody>\n",
       "</table>\n",
       "</div>"
      ],
      "text/plain": [
       "  ticker    Shares  Spot_Price          MV   Weight\n",
       "0   AMZN   6.00000      101.10   606.60000  0.09370\n",
       "1   COST   4.01058      497.13  1993.77964  0.30797\n",
       "2     HD   7.05887      288.67  2037.68400  0.31475\n",
       "3   JEPI  10.00000       54.30   543.00000  0.08387\n",
       "4    VTV   4.02437      138.83   558.70329  0.08630\n",
       "5    WAL  25.00000       29.37   734.25000  0.11341\n",
       "0   Cash   0.00000        1.00  5432.06000  0.83906\n",
       "0  TOTAL   0.00000        0.00  6474.01693  1.00000"
      ]
     },
     "execution_count": 114,
     "metadata": {},
     "output_type": "execute_result"
    }
   ],
   "source": [
    "portfolio = myPort.portfolio_()\n",
    "portfolio"
   ]
  },
  {
   "cell_type": "code",
   "execution_count": 113,
   "metadata": {},
   "outputs": [
    {
     "data": {
      "text/html": [
       "<div>\n",
       "<style scoped>\n",
       "    .dataframe tbody tr th:only-of-type {\n",
       "        vertical-align: middle;\n",
       "    }\n",
       "\n",
       "    .dataframe tbody tr th {\n",
       "        vertical-align: top;\n",
       "    }\n",
       "\n",
       "    .dataframe thead th {\n",
       "        text-align: right;\n",
       "    }\n",
       "</style>\n",
       "<table border=\"1\" class=\"dataframe\">\n",
       "  <thead>\n",
       "    <tr style=\"text-align: right;\">\n",
       "      <th></th>\n",
       "      <th>Expected_Performance</th>\n",
       "    </tr>\n",
       "  </thead>\n",
       "  <tbody>\n",
       "    <tr>\n",
       "      <th>Expected_Return</th>\n",
       "      <td>0.147113</td>\n",
       "    </tr>\n",
       "    <tr>\n",
       "      <th>Expected_Sigma</th>\n",
       "      <td>0.208352</td>\n",
       "    </tr>\n",
       "    <tr>\n",
       "      <th>$Expected_MU</th>\n",
       "      <td>952.412103</td>\n",
       "    </tr>\n",
       "    <tr>\n",
       "      <th>$Expected_Sigma</th>\n",
       "      <td>1348.878345</td>\n",
       "    </tr>\n",
       "  </tbody>\n",
       "</table>\n",
       "</div>"
      ],
      "text/plain": [
       "                Expected_Performance\n",
       "Expected_Return             0.147113\n",
       "Expected_Sigma              0.208352\n",
       "$Expected_MU              952.412103\n",
       "$Expected_Sigma          1348.878345"
      ]
     },
     "execution_count": 113,
     "metadata": {},
     "output_type": "execute_result"
    }
   ],
   "source": [
    "myPort.expected_peformance(252)"
   ]
  },
  {
   "cell_type": "code",
   "execution_count": 106,
   "metadata": {},
   "outputs": [
    {
     "data": {
      "text/plain": [
       "0.0005122777903916977"
      ]
     },
     "execution_count": 106,
     "metadata": {},
     "output_type": "execute_result"
    }
   ],
   "source": [
    "myPort.expected_return().mean()"
   ]
  },
  {
   "cell_type": "code",
   "execution_count": 27,
   "metadata": {},
   "outputs": [
    {
     "data": {
      "text/html": [
       "<div>\n",
       "<style scoped>\n",
       "    .dataframe tbody tr th:only-of-type {\n",
       "        vertical-align: middle;\n",
       "    }\n",
       "\n",
       "    .dataframe tbody tr th {\n",
       "        vertical-align: top;\n",
       "    }\n",
       "\n",
       "    .dataframe thead th {\n",
       "        text-align: right;\n",
       "    }\n",
       "</style>\n",
       "<table border=\"1\" class=\"dataframe\">\n",
       "  <thead>\n",
       "    <tr style=\"text-align: right;\">\n",
       "      <th></th>\n",
       "      <th>ticker</th>\n",
       "      <th>Shares</th>\n",
       "      <th>Spot_Price</th>\n",
       "      <th>MV</th>\n",
       "    </tr>\n",
       "  </thead>\n",
       "  <tbody>\n",
       "    <tr>\n",
       "      <th>0</th>\n",
       "      <td>AMZN</td>\n",
       "      <td>6.00000</td>\n",
       "      <td>101.10</td>\n",
       "      <td>606.60000</td>\n",
       "    </tr>\n",
       "    <tr>\n",
       "      <th>1</th>\n",
       "      <td>COST</td>\n",
       "      <td>4.01058</td>\n",
       "      <td>497.13</td>\n",
       "      <td>1993.77964</td>\n",
       "    </tr>\n",
       "    <tr>\n",
       "      <th>2</th>\n",
       "      <td>HD</td>\n",
       "      <td>7.05887</td>\n",
       "      <td>288.67</td>\n",
       "      <td>2037.68400</td>\n",
       "    </tr>\n",
       "    <tr>\n",
       "      <th>3</th>\n",
       "      <td>JEPI</td>\n",
       "      <td>10.00000</td>\n",
       "      <td>54.30</td>\n",
       "      <td>543.00000</td>\n",
       "    </tr>\n",
       "    <tr>\n",
       "      <th>4</th>\n",
       "      <td>VTV</td>\n",
       "      <td>4.02437</td>\n",
       "      <td>138.83</td>\n",
       "      <td>558.70329</td>\n",
       "    </tr>\n",
       "    <tr>\n",
       "      <th>5</th>\n",
       "      <td>WAL</td>\n",
       "      <td>25.00000</td>\n",
       "      <td>29.37</td>\n",
       "      <td>734.25000</td>\n",
       "    </tr>\n",
       "  </tbody>\n",
       "</table>\n",
       "</div>"
      ],
      "text/plain": [
       "  ticker    Shares  Spot_Price          MV\n",
       "0   AMZN   6.00000      101.10   606.60000\n",
       "1   COST   4.01058      497.13  1993.77964\n",
       "2     HD   7.05887      288.67  2037.68400\n",
       "3   JEPI  10.00000       54.30   543.00000\n",
       "4    VTV   4.02437      138.83   558.70329\n",
       "5    WAL  25.00000       29.37   734.25000"
      ]
     },
     "execution_count": 27,
     "metadata": {},
     "output_type": "execute_result"
    }
   ],
   "source": []
  },
  {
   "cell_type": "code",
   "execution_count": 38,
   "metadata": {},
   "outputs": [],
   "source": [
    "cov = myPort.covariance_matrix()"
   ]
  },
  {
   "cell_type": "code",
   "execution_count": 39,
   "metadata": {},
   "outputs": [
    {
     "data": {
      "text/html": [
       "<div>\n",
       "<style scoped>\n",
       "    .dataframe tbody tr th:only-of-type {\n",
       "        vertical-align: middle;\n",
       "    }\n",
       "\n",
       "    .dataframe tbody tr th {\n",
       "        vertical-align: top;\n",
       "    }\n",
       "\n",
       "    .dataframe thead th {\n",
       "        text-align: right;\n",
       "    }\n",
       "</style>\n",
       "<table border=\"1\" class=\"dataframe\">\n",
       "  <thead>\n",
       "    <tr style=\"text-align: right;\">\n",
       "      <th>ticker</th>\n",
       "      <th>AMZN</th>\n",
       "      <th>COST</th>\n",
       "      <th>HD</th>\n",
       "      <th>JEPI</th>\n",
       "      <th>VTV</th>\n",
       "      <th>WAL</th>\n",
       "    </tr>\n",
       "    <tr>\n",
       "      <th>ticker</th>\n",
       "      <th></th>\n",
       "      <th></th>\n",
       "      <th></th>\n",
       "      <th></th>\n",
       "      <th></th>\n",
       "      <th></th>\n",
       "    </tr>\n",
       "  </thead>\n",
       "  <tbody>\n",
       "    <tr>\n",
       "      <th>AMZN</th>\n",
       "      <td>0.000583</td>\n",
       "      <td>0.000189</td>\n",
       "      <td>0.000189</td>\n",
       "      <td>0.000097</td>\n",
       "      <td>0.000107</td>\n",
       "      <td>0.000206</td>\n",
       "    </tr>\n",
       "    <tr>\n",
       "      <th>COST</th>\n",
       "      <td>0.000189</td>\n",
       "      <td>0.000232</td>\n",
       "      <td>0.000141</td>\n",
       "      <td>0.000072</td>\n",
       "      <td>0.000077</td>\n",
       "      <td>0.000104</td>\n",
       "    </tr>\n",
       "    <tr>\n",
       "      <th>HD</th>\n",
       "      <td>0.000189</td>\n",
       "      <td>0.000141</td>\n",
       "      <td>0.000257</td>\n",
       "      <td>0.000075</td>\n",
       "      <td>0.000096</td>\n",
       "      <td>0.000162</td>\n",
       "    </tr>\n",
       "    <tr>\n",
       "      <th>JEPI</th>\n",
       "      <td>0.000097</td>\n",
       "      <td>0.000072</td>\n",
       "      <td>0.000075</td>\n",
       "      <td>0.000054</td>\n",
       "      <td>0.000065</td>\n",
       "      <td>0.000106</td>\n",
       "    </tr>\n",
       "    <tr>\n",
       "      <th>VTV</th>\n",
       "      <td>0.000107</td>\n",
       "      <td>0.000077</td>\n",
       "      <td>0.000096</td>\n",
       "      <td>0.000065</td>\n",
       "      <td>0.000112</td>\n",
       "      <td>0.000235</td>\n",
       "    </tr>\n",
       "    <tr>\n",
       "      <th>WAL</th>\n",
       "      <td>0.000206</td>\n",
       "      <td>0.000104</td>\n",
       "      <td>0.000162</td>\n",
       "      <td>0.000106</td>\n",
       "      <td>0.000235</td>\n",
       "      <td>0.001396</td>\n",
       "    </tr>\n",
       "  </tbody>\n",
       "</table>\n",
       "</div>"
      ],
      "text/plain": [
       "ticker      AMZN      COST        HD      JEPI       VTV       WAL\n",
       "ticker                                                            \n",
       "AMZN    0.000583  0.000189  0.000189  0.000097  0.000107  0.000206\n",
       "COST    0.000189  0.000232  0.000141  0.000072  0.000077  0.000104\n",
       "HD      0.000189  0.000141  0.000257  0.000075  0.000096  0.000162\n",
       "JEPI    0.000097  0.000072  0.000075  0.000054  0.000065  0.000106\n",
       "VTV     0.000107  0.000077  0.000096  0.000065  0.000112  0.000235\n",
       "WAL     0.000206  0.000104  0.000162  0.000106  0.000235  0.001396"
      ]
     },
     "execution_count": 39,
     "metadata": {},
     "output_type": "execute_result"
    }
   ],
   "source": [
    "cov"
   ]
  }
 ],
 "metadata": {
  "kernelspec": {
   "display_name": "base",
   "language": "python",
   "name": "python3"
  },
  "language_info": {
   "codemirror_mode": {
    "name": "ipython",
    "version": 3
   },
   "file_extension": ".py",
   "mimetype": "text/x-python",
   "name": "python",
   "nbconvert_exporter": "python",
   "pygments_lexer": "ipython3",
   "version": "3.9.13"
  },
  "orig_nbformat": 4
 },
 "nbformat": 4,
 "nbformat_minor": 2
}
